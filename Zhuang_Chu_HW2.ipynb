{
 "cells": [
  {
   "cell_type": "markdown",
   "metadata": {},
   "source": [
    "# Assignment 2 Classification Methods\n",
    "\n",
    "by Chu Zhuang"
   ]
  },
  {
   "cell_type": "code",
   "execution_count": 384,
   "metadata": {},
   "outputs": [],
   "source": [
    "# import relevant packages\n",
    "import random\n",
    "import math\n",
    "import numpy as np\n",
    "import pandas as pd\n",
    "import seaborn\n",
    "import sklearn\n",
    "import matplotlib as mpl\n",
    "import matplotlib.pyplot as plt"
   ]
  },
  {
   "cell_type": "markdown",
   "metadata": {},
   "source": [
    "# The Bayes Classifier\n",
    "\n",
    "## Question 1"
   ]
  },
  {
   "cell_type": "markdown",
   "metadata": {},
   "source": [
    "Generate a random seed and simulate uniform random variable X1, X2"
   ]
  },
  {
   "cell_type": "code",
   "execution_count": 3,
   "metadata": {},
   "outputs": [],
   "source": [
    "#a.set random number generator seed\n",
    "random.seed(123)"
   ]
  },
  {
   "cell_type": "code",
   "execution_count": 39,
   "metadata": {},
   "outputs": [],
   "source": [
    "#b.simulate X1, X2, uniform random variable \n",
    "X=[(random.uniform(-1,1),random.uniform(-1,1)) for i in range(200)]\n",
    "X1=[x1 for (x1,x2) in X]\n",
    "X2=[x2 for (x1,x2) in X]"
   ]
  },
  {
   "cell_type": "markdown",
   "metadata": {},
   "source": [
    "Calculate Y according to the Y=x1+x1*x1+x2+x2*x2 formula:"
   ]
  },
  {
   "cell_type": "code",
   "execution_count": 48,
   "metadata": {},
   "outputs": [],
   "source": [
    "#c.calculate Y\n",
    "Y=[x1+x1*x1+x2+x2*x2+random.normalvariate(0,0.5) for (x1,x2) in X]\n",
    "Y0=[x1+x1*x1+x2+x2*x2 for (x1,x2) in X]"
   ]
  },
  {
   "cell_type": "markdown",
   "metadata": {},
   "source": [
    "Interpret Y as log-odds of success probability and calculate success probability accordingly: "
   ]
  },
  {
   "cell_type": "code",
   "execution_count": 49,
   "metadata": {},
   "outputs": [],
   "source": [
    "#d.calculate probability of success, based on logistic regression (log-odds of Y)\n",
    "success_prob=[math.exp(y)/(1+math.exp(y)) for y in Y]"
   ]
  },
  {
   "cell_type": "markdown",
   "metadata": {},
   "source": [
    "Also calculate the classification result (Success or Failure):"
   ]
  },
  {
   "cell_type": "code",
   "execution_count": 50,
   "metadata": {},
   "outputs": [],
   "source": [
    "#e. based on the probability, according to the bayes classifier, classify as success or failure \n",
    "success_failure=[ prob>0.5 for prob in success_prob]"
   ]
  },
  {
   "cell_type": "code",
   "execution_count": 51,
   "metadata": {},
   "outputs": [],
   "source": [
    "#organize the data into dataframe\n",
    "df_bays=pd.DataFrame({'X1':X1,'X2':X2,'Y':Y,'Y0':Y0, 'Prob_success':success_prob,'Class_success':success_failure})"
   ]
  },
  {
   "cell_type": "code",
   "execution_count": 52,
   "metadata": {},
   "outputs": [
    {
     "data": {
      "text/html": [
       "<div>\n",
       "<style scoped>\n",
       "    .dataframe tbody tr th:only-of-type {\n",
       "        vertical-align: middle;\n",
       "    }\n",
       "\n",
       "    .dataframe tbody tr th {\n",
       "        vertical-align: top;\n",
       "    }\n",
       "\n",
       "    .dataframe thead th {\n",
       "        text-align: right;\n",
       "    }\n",
       "</style>\n",
       "<table border=\"1\" class=\"dataframe\">\n",
       "  <thead>\n",
       "    <tr style=\"text-align: right;\">\n",
       "      <th></th>\n",
       "      <th>X1</th>\n",
       "      <th>X2</th>\n",
       "      <th>Y</th>\n",
       "      <th>Y0</th>\n",
       "      <th>Prob_success</th>\n",
       "      <th>Class_success</th>\n",
       "    </tr>\n",
       "  </thead>\n",
       "  <tbody>\n",
       "    <tr>\n",
       "      <th>0</th>\n",
       "      <td>-0.688658</td>\n",
       "      <td>-0.771272</td>\n",
       "      <td>-0.277372</td>\n",
       "      <td>-0.390820</td>\n",
       "      <td>0.431098</td>\n",
       "      <td>False</td>\n",
       "    </tr>\n",
       "    <tr>\n",
       "      <th>1</th>\n",
       "      <td>0.466037</td>\n",
       "      <td>-0.945086</td>\n",
       "      <td>0.768201</td>\n",
       "      <td>0.631329</td>\n",
       "      <td>0.683132</td>\n",
       "      <td>True</td>\n",
       "    </tr>\n",
       "    <tr>\n",
       "      <th>2</th>\n",
       "      <td>0.998200</td>\n",
       "      <td>-0.201452</td>\n",
       "      <td>1.001406</td>\n",
       "      <td>1.833733</td>\n",
       "      <td>0.731335</td>\n",
       "      <td>True</td>\n",
       "    </tr>\n",
       "    <tr>\n",
       "      <th>3</th>\n",
       "      <td>0.216212</td>\n",
       "      <td>-0.284275</td>\n",
       "      <td>0.711955</td>\n",
       "      <td>0.059497</td>\n",
       "      <td>0.670833</td>\n",
       "      <td>True</td>\n",
       "    </tr>\n",
       "    <tr>\n",
       "      <th>4</th>\n",
       "      <td>0.590545</td>\n",
       "      <td>-0.464611</td>\n",
       "      <td>0.765419</td>\n",
       "      <td>0.690541</td>\n",
       "      <td>0.682529</td>\n",
       "      <td>True</td>\n",
       "    </tr>\n",
       "  </tbody>\n",
       "</table>\n",
       "</div>"
      ],
      "text/plain": [
       "         X1        X2         Y        Y0  Prob_success  Class_success\n",
       "0 -0.688658 -0.771272 -0.277372 -0.390820      0.431098          False\n",
       "1  0.466037 -0.945086  0.768201  0.631329      0.683132           True\n",
       "2  0.998200 -0.201452  1.001406  1.833733      0.731335           True\n",
       "3  0.216212 -0.284275  0.711955  0.059497      0.670833           True\n",
       "4  0.590545 -0.464611  0.765419  0.690541      0.682529           True"
      ]
     },
     "execution_count": 52,
     "metadata": {},
     "output_type": "execute_result"
    }
   ],
   "source": [
    "df_bays.head()"
   ]
  },
  {
   "cell_type": "markdown",
   "metadata": {},
   "source": [
    "Plot the scatter figure, indicating the success/failure category of each point, based on the calculation above:"
   ]
  },
  {
   "cell_type": "code",
   "execution_count": 101,
   "metadata": {},
   "outputs": [
    {
     "data": {
      "image/png": "[encoded data removed]",
      "text/plain": [
       "<Figure size 576x576 with 1 Axes>"
      ]
     },
     "metadata": {
      "needs_background": "light"
     },
     "output_type": "display_data"
    }
   ],
   "source": [
    "#e. plot all the data points on a graph, and indicate the success of failure of each datapoint\n",
    "#set basic parameters for plotting\n",
    "def plot_scatter():\n",
    "    colors=['b','r']\n",
    "    labels=['Success','Failure']\n",
    "    fig, ax = plt.subplots(figsize = (8,8))\n",
    "\n",
    "    #plot points of success first\n",
    "    x1=df_bays[df_bays['Class_success']==True]['X1']\n",
    "    x2=df_bays[df_bays['Class_success']==True]['X2']\n",
    "    ax.scatter(x1,x2,c=colors[0],label=labels[0])\n",
    "\n",
    "    #plot points of failure \n",
    "    x1=df_bays[df_bays['Class_success']==False]['X1']\n",
    "    x2=df_bays[df_bays['Class_success']==False]['X2']\n",
    "    ax.scatter(x1,x2,c=colors[1],label=labels[1])\n",
    "    ax.plot()\n",
    "\n",
    "    ax.legend(loc = 'center right', title = 'Catgories')\n",
    "    plt.xlabel('X1')\n",
    "    plt.ylabel('X2')\n",
    "    plt.title('Bayes Classification Results')\n",
    "    plt.show()\n",
    "    plt.close()\n",
    "\n",
    "plot_scatter()"
   ]
  },
  {
   "cell_type": "markdown",
   "metadata": {},
   "source": [
    "Draw the decision boundary (**Region** in Python), overlying the scatter plot of each datapoints:"
   ]
  },
  {
   "cell_type": "code",
   "execution_count": 125,
   "metadata": {},
   "outputs": [],
   "source": [
    "#define predict function of logistic bayes for X1, X2\n",
    "def logis_bayes_predict(X):\n",
    "    Y=[x[0]+x[0]*x[0]+x[1]+x[1]*x[1]+random.normalvariate(0,0.5) for x in X]\n",
    "    success_prob=[math.exp(y)/(1+math.exp(y)) for y in Y]\n",
    "    success_failure=[ prob>0.5 for prob in success_prob]\n",
    "    #catsMap = {c : i for i, c in enumerate(np.unique(df_bays['Class_success']))}\n",
    "    return np.array(lambda x: catsMap[x])(Z)"
   ]
  },
  {
   "cell_type": "code",
   "execution_count": 139,
   "metadata": {
    "scrolled": true
   },
   "outputs": [
    {
     "name": "stderr",
     "output_type": "stream",
     "text": [
      "'c' argument looks like a single numeric RGB or RGBA sequence, which should be avoided as value-mapping will have precedence in case its length matches with 'x' & 'y'.  Please use a 2-D array with a single row if you really want to specify the same RGB or RGBA value for all points.\n",
      "'c' argument looks like a single numeric RGB or RGBA sequence, which should be avoided as value-mapping will have precedence in case its length matches with 'x' & 'y'.  Please use a 2-D array with a single row if you really want to specify the same RGB or RGBA value for all points.\n"
     ]
    },
    {
     "data": {
      "image/png": "[encoded data removed]",
      "text/plain": [
       "<Figure size 432x288 with 1 Axes>"
      ]
     },
     "metadata": {
      "needs_background": "light"
     },
     "output_type": "display_data"
    }
   ],
   "source": [
    "# f.plot the decision boundary, based on X1, X2-->Y-->Prob of sucess\n",
    "#np.meshgrid, set regions\n",
    "X1=df_bays['X1']\n",
    "X2=df_bays['X2']\n",
    "x_min, x_max = X1.min() *1.1, X1.max() *1.1\n",
    "y_min, y_max = X2.min() *1.1, X2.max() *1.1\n",
    "h = 0.01\n",
    "xx, yy = np.meshgrid(np.arange(x_min, x_max, h), np.arange(y_min, y_max, h))\n",
    "  \n",
    "#predict the results of X1,X2, based on logistic regression bayes\n",
    "Z = logis_bayes_predict(np.c_[xx.ravel(), yy.ravel()])\n",
    "Z = Z.reshape(xx.shape)\n",
    "  \n",
    "#plot the contour and regions of success (in blue) or failure(in red)\n",
    "plt.contourf(xx, yy, Z, cmap=plt.cm.coolwarm) #Spectral)\n",
    "    \n",
    "#plot the scatter figure\n",
    "#colors=['b','r']\n",
    "labels=['Success','Failure']\n",
    "pallet = seaborn.color_palette(palette='coolwarm', n_colors = len(set(df_bays['Class_success'])))\n",
    "#plot points of success first\n",
    "x1=df_bays[df_bays['Class_success']==True]['X1']\n",
    "x2=df_bays[df_bays['Class_success']==True]['X2']\n",
    "plt.scatter(x1,x2,s=10,c=pallet[1],label=labels[0])\n",
    "#plot points of failure \n",
    "x1=df_bays[df_bays['Class_success']==False]['X1']\n",
    "x2=df_bays[df_bays['Class_success']==False]['X2']\n",
    "plt.scatter(x1,x2,s=10,c=pallet[0],label=labels[1])\n",
    "\n",
    "plt.legend(loc = 'center right', title = 'Catgories')\n",
    "plt.xlabel('X1')\n",
    "plt.ylabel('X2')\n",
    "plt.title('Bayes Classification Results')\n",
    "plt.show()\n",
    "plt.close()"
   ]
  },
  {
   "cell_type": "markdown",
   "metadata": {},
   "source": [
    "# Explore Simulated Differences between LDA and QDA"
   ]
  },
  {
   "cell_type": "markdown",
   "metadata": {},
   "source": [
    "## Question 2\n",
    "First implement the basic pipeline:\n",
    "* Simulate a dataset of 1000 observations wih uniform distribution (-1,+1):"
   ]
  },
  {
   "cell_type": "code",
   "execution_count": 174,
   "metadata": {},
   "outputs": [],
   "source": [
    "#i.generate uniform random variable of 1000\n",
    "X=[[random.uniform(-1,1),random.uniform(-1,1)] for i in range(1000)]\n",
    "X1=[x1 for (x1,x2) in X]\n",
    "X2=[x2 for (x1,x2) in X]"
   ]
  },
  {
   "cell_type": "markdown",
   "metadata": {},
   "source": [
    "* Calculate simulated Y: first calculate Y according to the f(x)=x1+x2 formula, and classify it accordingly:"
   ]
  },
  {
   "cell_type": "code",
   "execution_count": 187,
   "metadata": {},
   "outputs": [],
   "source": [
    "Y_sim=[x1+x2+random.normalvariate(0,1) for [x1,x2] in X]\n",
    "category=[y>=0 for y in Y_sim]"
   ]
  },
  {
   "cell_type": "markdown",
   "metadata": {},
   "source": [
    "* Organize as a dataframe for ease of further analysis:"
   ]
  },
  {
   "cell_type": "code",
   "execution_count": 188,
   "metadata": {},
   "outputs": [
    {
     "data": {
      "text/html": [
       "<div>\n",
       "<style scoped>\n",
       "    .dataframe tbody tr th:only-of-type {\n",
       "        vertical-align: middle;\n",
       "    }\n",
       "\n",
       "    .dataframe tbody tr th {\n",
       "        vertical-align: top;\n",
       "    }\n",
       "\n",
       "    .dataframe thead th {\n",
       "        text-align: right;\n",
       "    }\n",
       "</style>\n",
       "<table border=\"1\" class=\"dataframe\">\n",
       "  <thead>\n",
       "    <tr style=\"text-align: right;\">\n",
       "      <th></th>\n",
       "      <th>X</th>\n",
       "      <th>X1</th>\n",
       "      <th>X2</th>\n",
       "      <th>Y</th>\n",
       "      <th>Y_sim</th>\n",
       "      <th>Category</th>\n",
       "    </tr>\n",
       "  </thead>\n",
       "  <tbody>\n",
       "    <tr>\n",
       "      <th>0</th>\n",
       "      <td>[0.9311513237017663, 0.5978287942403575]</td>\n",
       "      <td>0.931151</td>\n",
       "      <td>0.597829</td>\n",
       "      <td>1.528980</td>\n",
       "      <td>2.199462</td>\n",
       "      <td>True</td>\n",
       "    </tr>\n",
       "    <tr>\n",
       "      <th>1</th>\n",
       "      <td>[0.20377965714930402, -0.10740212866912402]</td>\n",
       "      <td>0.203780</td>\n",
       "      <td>-0.107402</td>\n",
       "      <td>0.096378</td>\n",
       "      <td>-1.025449</td>\n",
       "      <td>False</td>\n",
       "    </tr>\n",
       "    <tr>\n",
       "      <th>2</th>\n",
       "      <td>[-0.3037578820481073, 0.6843852241909743]</td>\n",
       "      <td>-0.303758</td>\n",
       "      <td>0.684385</td>\n",
       "      <td>0.380627</td>\n",
       "      <td>-0.517976</td>\n",
       "      <td>False</td>\n",
       "    </tr>\n",
       "    <tr>\n",
       "      <th>3</th>\n",
       "      <td>[0.20207055446397915, 0.675717091506645]</td>\n",
       "      <td>0.202071</td>\n",
       "      <td>0.675717</td>\n",
       "      <td>0.877788</td>\n",
       "      <td>-0.200419</td>\n",
       "      <td>False</td>\n",
       "    </tr>\n",
       "    <tr>\n",
       "      <th>4</th>\n",
       "      <td>[-0.9496161779077608, -0.23921996515490385]</td>\n",
       "      <td>-0.949616</td>\n",
       "      <td>-0.239220</td>\n",
       "      <td>-1.188836</td>\n",
       "      <td>-1.241947</td>\n",
       "      <td>False</td>\n",
       "    </tr>\n",
       "    <tr>\n",
       "      <th>...</th>\n",
       "      <td>...</td>\n",
       "      <td>...</td>\n",
       "      <td>...</td>\n",
       "      <td>...</td>\n",
       "      <td>...</td>\n",
       "      <td>...</td>\n",
       "    </tr>\n",
       "    <tr>\n",
       "      <th>995</th>\n",
       "      <td>[0.12449713351594638, 0.9514651811078527]</td>\n",
       "      <td>0.124497</td>\n",
       "      <td>0.951465</td>\n",
       "      <td>1.075962</td>\n",
       "      <td>-0.040482</td>\n",
       "      <td>False</td>\n",
       "    </tr>\n",
       "    <tr>\n",
       "      <th>996</th>\n",
       "      <td>[-0.6860049132542325, -0.5024518136361364]</td>\n",
       "      <td>-0.686005</td>\n",
       "      <td>-0.502452</td>\n",
       "      <td>-1.188457</td>\n",
       "      <td>-0.626730</td>\n",
       "      <td>False</td>\n",
       "    </tr>\n",
       "    <tr>\n",
       "      <th>997</th>\n",
       "      <td>[0.8747024531057492, -0.8546936481430818]</td>\n",
       "      <td>0.874702</td>\n",
       "      <td>-0.854694</td>\n",
       "      <td>0.020009</td>\n",
       "      <td>-1.058232</td>\n",
       "      <td>False</td>\n",
       "    </tr>\n",
       "    <tr>\n",
       "      <th>998</th>\n",
       "      <td>[-0.21038379678902808, -0.4977608567305023]</td>\n",
       "      <td>-0.210384</td>\n",
       "      <td>-0.497761</td>\n",
       "      <td>-0.708145</td>\n",
       "      <td>-1.187256</td>\n",
       "      <td>False</td>\n",
       "    </tr>\n",
       "    <tr>\n",
       "      <th>999</th>\n",
       "      <td>[-0.2464331707443692, -0.14364630742423556]</td>\n",
       "      <td>-0.246433</td>\n",
       "      <td>-0.143646</td>\n",
       "      <td>-0.390079</td>\n",
       "      <td>0.355769</td>\n",
       "      <td>True</td>\n",
       "    </tr>\n",
       "  </tbody>\n",
       "</table>\n",
       "<p>1000 rows × 6 columns</p>\n",
       "</div>"
      ],
      "text/plain": [
       "                                               X        X1        X2  \\\n",
       "0       [0.9311513237017663, 0.5978287942403575]  0.931151  0.597829   \n",
       "1    [0.20377965714930402, -0.10740212866912402]  0.203780 -0.107402   \n",
       "2      [-0.3037578820481073, 0.6843852241909743] -0.303758  0.684385   \n",
       "3       [0.20207055446397915, 0.675717091506645]  0.202071  0.675717   \n",
       "4    [-0.9496161779077608, -0.23921996515490385] -0.949616 -0.239220   \n",
       "..                                           ...       ...       ...   \n",
       "995    [0.12449713351594638, 0.9514651811078527]  0.124497  0.951465   \n",
       "996   [-0.6860049132542325, -0.5024518136361364] -0.686005 -0.502452   \n",
       "997    [0.8747024531057492, -0.8546936481430818]  0.874702 -0.854694   \n",
       "998  [-0.21038379678902808, -0.4977608567305023] -0.210384 -0.497761   \n",
       "999  [-0.2464331707443692, -0.14364630742423556] -0.246433 -0.143646   \n",
       "\n",
       "            Y     Y_sim  Category  \n",
       "0    1.528980  2.199462      True  \n",
       "1    0.096378 -1.025449     False  \n",
       "2    0.380627 -0.517976     False  \n",
       "3    0.877788 -0.200419     False  \n",
       "4   -1.188836 -1.241947     False  \n",
       "..        ...       ...       ...  \n",
       "995  1.075962 -0.040482     False  \n",
       "996 -1.188457 -0.626730     False  \n",
       "997  0.020009 -1.058232     False  \n",
       "998 -0.708145 -1.187256     False  \n",
       "999 -0.390079  0.355769      True  \n",
       "\n",
       "[1000 rows x 6 columns]"
      ]
     },
     "execution_count": 188,
     "metadata": {},
     "output_type": "execute_result"
    }
   ],
   "source": [
    "df_lda=pd.DataFrame({'X':X,'X1':X1,'X2':X2,'Y':Y,'Y_sim':Y_sim,'Category':category})\n",
    "df_lda"
   ]
  },
  {
   "cell_type": "markdown",
   "metadata": {},
   "source": [
    "* Split the Dataset into 70/30% for training or testing:"
   ]
  },
  {
   "cell_type": "code",
   "execution_count": 189,
   "metadata": {},
   "outputs": [],
   "source": [
    "#define a function for split dataset (format as dataframe)\n",
    "def split_data(df,prob_of_train):\n",
    "    df = df.reindex(np.random.permutation(df.index))\n",
    "    TrainIndex = int(prob_of_train * len(df))\n",
    "    train_data = df[:TrainIndex].copy()\n",
    "    test_data = df[TrainIndex:].copy()\n",
    "    return train_data,test_data"
   ]
  },
  {
   "cell_type": "code",
   "execution_count": 190,
   "metadata": {},
   "outputs": [],
   "source": [
    "#ii.split the dataset \n",
    "df_train,df_test=split_data(df_lda,0.7)"
   ]
  },
  {
   "cell_type": "code",
   "execution_count": 191,
   "metadata": {
    "scrolled": true
   },
   "outputs": [
    {
     "data": {
      "text/html": [
       "<div>\n",
       "<style scoped>\n",
       "    .dataframe tbody tr th:only-of-type {\n",
       "        vertical-align: middle;\n",
       "    }\n",
       "\n",
       "    .dataframe tbody tr th {\n",
       "        vertical-align: top;\n",
       "    }\n",
       "\n",
       "    .dataframe thead th {\n",
       "        text-align: right;\n",
       "    }\n",
       "</style>\n",
       "<table border=\"1\" class=\"dataframe\">\n",
       "  <thead>\n",
       "    <tr style=\"text-align: right;\">\n",
       "      <th></th>\n",
       "      <th>X</th>\n",
       "      <th>X1</th>\n",
       "      <th>X2</th>\n",
       "      <th>Y</th>\n",
       "      <th>Y_sim</th>\n",
       "      <th>Category</th>\n",
       "    </tr>\n",
       "  </thead>\n",
       "  <tbody>\n",
       "    <tr>\n",
       "      <th>725</th>\n",
       "      <td>[0.23160784762522302, -0.9272341581296459]</td>\n",
       "      <td>0.231608</td>\n",
       "      <td>-0.927234</td>\n",
       "      <td>-0.695626</td>\n",
       "      <td>-0.881991</td>\n",
       "      <td>False</td>\n",
       "    </tr>\n",
       "    <tr>\n",
       "      <th>586</th>\n",
       "      <td>[0.6845769923451543, 0.5885532664966773]</td>\n",
       "      <td>0.684577</td>\n",
       "      <td>0.588553</td>\n",
       "      <td>1.273130</td>\n",
       "      <td>2.400878</td>\n",
       "      <td>True</td>\n",
       "    </tr>\n",
       "    <tr>\n",
       "      <th>799</th>\n",
       "      <td>[-0.6153529543978002, -0.4529645359233816]</td>\n",
       "      <td>-0.615353</td>\n",
       "      <td>-0.452965</td>\n",
       "      <td>-1.068317</td>\n",
       "      <td>0.343419</td>\n",
       "      <td>True</td>\n",
       "    </tr>\n",
       "    <tr>\n",
       "      <th>399</th>\n",
       "      <td>[0.8969694758932365, 0.8938855770306906]</td>\n",
       "      <td>0.896969</td>\n",
       "      <td>0.893886</td>\n",
       "      <td>1.790855</td>\n",
       "      <td>1.340552</td>\n",
       "      <td>True</td>\n",
       "    </tr>\n",
       "    <tr>\n",
       "      <th>980</th>\n",
       "      <td>[0.671220906978395, 0.7763370584233558]</td>\n",
       "      <td>0.671221</td>\n",
       "      <td>0.776337</td>\n",
       "      <td>1.447558</td>\n",
       "      <td>2.038790</td>\n",
       "      <td>True</td>\n",
       "    </tr>\n",
       "    <tr>\n",
       "      <th>...</th>\n",
       "      <td>...</td>\n",
       "      <td>...</td>\n",
       "      <td>...</td>\n",
       "      <td>...</td>\n",
       "      <td>...</td>\n",
       "      <td>...</td>\n",
       "    </tr>\n",
       "    <tr>\n",
       "      <th>615</th>\n",
       "      <td>[0.4101228366709322, 0.2687868836562175]</td>\n",
       "      <td>0.410123</td>\n",
       "      <td>0.268787</td>\n",
       "      <td>0.678910</td>\n",
       "      <td>1.691895</td>\n",
       "      <td>True</td>\n",
       "    </tr>\n",
       "    <tr>\n",
       "      <th>309</th>\n",
       "      <td>[0.46558609025200703, -0.04010068949474177]</td>\n",
       "      <td>0.465586</td>\n",
       "      <td>-0.040101</td>\n",
       "      <td>0.425485</td>\n",
       "      <td>0.978045</td>\n",
       "      <td>True</td>\n",
       "    </tr>\n",
       "    <tr>\n",
       "      <th>825</th>\n",
       "      <td>[0.6497894528252863, 0.6500647762051279]</td>\n",
       "      <td>0.649789</td>\n",
       "      <td>0.650065</td>\n",
       "      <td>1.299854</td>\n",
       "      <td>1.376764</td>\n",
       "      <td>True</td>\n",
       "    </tr>\n",
       "    <tr>\n",
       "      <th>421</th>\n",
       "      <td>[0.45473426279452056, 0.47129065941405357]</td>\n",
       "      <td>0.454734</td>\n",
       "      <td>0.471291</td>\n",
       "      <td>0.926025</td>\n",
       "      <td>1.208971</td>\n",
       "      <td>True</td>\n",
       "    </tr>\n",
       "    <tr>\n",
       "      <th>327</th>\n",
       "      <td>[-0.6691651718543383, 0.3700886312704894]</td>\n",
       "      <td>-0.669165</td>\n",
       "      <td>0.370089</td>\n",
       "      <td>-0.299077</td>\n",
       "      <td>1.218953</td>\n",
       "      <td>True</td>\n",
       "    </tr>\n",
       "  </tbody>\n",
       "</table>\n",
       "<p>700 rows × 6 columns</p>\n",
       "</div>"
      ],
      "text/plain": [
       "                                               X        X1        X2  \\\n",
       "725   [0.23160784762522302, -0.9272341581296459]  0.231608 -0.927234   \n",
       "586     [0.6845769923451543, 0.5885532664966773]  0.684577  0.588553   \n",
       "799   [-0.6153529543978002, -0.4529645359233816] -0.615353 -0.452965   \n",
       "399     [0.8969694758932365, 0.8938855770306906]  0.896969  0.893886   \n",
       "980      [0.671220906978395, 0.7763370584233558]  0.671221  0.776337   \n",
       "..                                           ...       ...       ...   \n",
       "615     [0.4101228366709322, 0.2687868836562175]  0.410123  0.268787   \n",
       "309  [0.46558609025200703, -0.04010068949474177]  0.465586 -0.040101   \n",
       "825     [0.6497894528252863, 0.6500647762051279]  0.649789  0.650065   \n",
       "421   [0.45473426279452056, 0.47129065941405357]  0.454734  0.471291   \n",
       "327    [-0.6691651718543383, 0.3700886312704894] -0.669165  0.370089   \n",
       "\n",
       "            Y     Y_sim  Category  \n",
       "725 -0.695626 -0.881991     False  \n",
       "586  1.273130  2.400878      True  \n",
       "799 -1.068317  0.343419      True  \n",
       "399  1.790855  1.340552      True  \n",
       "980  1.447558  2.038790      True  \n",
       "..        ...       ...       ...  \n",
       "615  0.678910  1.691895      True  \n",
       "309  0.425485  0.978045      True  \n",
       "825  1.299854  1.376764      True  \n",
       "421  0.926025  1.208971      True  \n",
       "327 -0.299077  1.218953      True  \n",
       "\n",
       "[700 rows x 6 columns]"
      ]
     },
     "execution_count": 191,
     "metadata": {},
     "output_type": "execute_result"
    }
   ],
   "source": [
    "df_train"
   ]
  },
  {
   "cell_type": "markdown",
   "metadata": {},
   "source": [
    "* Estimate and fit LDA and QDA models:"
   ]
  },
  {
   "cell_type": "code",
   "execution_count": 180,
   "metadata": {},
   "outputs": [],
   "source": [
    "#import the packages\n",
    "from sklearn.discriminant_analysis import LinearDiscriminantAnalysis as LDA\n",
    "from sklearn.discriminant_analysis import QuadraticDiscriminantAnalysis as QDA\n",
    "\n",
    "#consturct and fit in the model\n",
    "clf_lda=LDA()\n",
    "clf_qda=QDA()"
   ]
  },
  {
   "cell_type": "code",
   "execution_count": 196,
   "metadata": {},
   "outputs": [
    {
     "data": {
      "text/plain": [
       "LinearDiscriminantAnalysis(n_components=None, priors=None, shrinkage=None,\n",
       "                           solver='svd', store_covariance=False, tol=0.0001)"
      ]
     },
     "execution_count": 196,
     "metadata": {},
     "output_type": "execute_result"
    }
   ],
   "source": [
    "clf_lda.fit(np.stack(df_train['X'], axis=0), df_train['Category'])"
   ]
  },
  {
   "cell_type": "code",
   "execution_count": 198,
   "metadata": {},
   "outputs": [
    {
     "data": {
      "text/plain": [
       "QuadraticDiscriminantAnalysis(priors=None, reg_param=0.0,\n",
       "                              store_covariance=False, tol=0.0001)"
      ]
     },
     "execution_count": 198,
     "metadata": {},
     "output_type": "execute_result"
    }
   ],
   "source": [
    "clf_qda.fit(np.stack(df_train['X'], axis=0), df_train['Category'])"
   ]
  },
  {
   "cell_type": "markdown",
   "metadata": {},
   "source": [
    "* Calculate error rate for both LDA and QDA methods. for both training and testing dataset:"
   ]
  },
  {
   "cell_type": "code",
   "execution_count": 184,
   "metadata": {},
   "outputs": [],
   "source": [
    "def calculate_error_rate(clf,df):\n",
    "    predictions=clf.predict(np.stack(df['X'], axis=0))\n",
    "    error_rate=1 -  sklearn.metrics.accuracy_score(df['Category'], predictions)\n",
    "    return error_rate"
   ]
  },
  {
   "cell_type": "code",
   "execution_count": 201,
   "metadata": {},
   "outputs": [
    {
     "name": "stdout",
     "output_type": "stream",
     "text": [
      "LDA training Error Rate: 0.2871\n",
      "LDA test Error Rate: 0.2867\n"
     ]
    }
   ],
   "source": [
    "error_rate_lda_train=calculate_error_rate(clf_lda,df_train)\n",
    "error_rate_lda_test=calculate_error_rate(clf_lda,df_test)\n",
    "print ('LDA training Error Rate:',round(error_rate_lda_train,4))\n",
    "print ('LDA test Error Rate:',round(error_rate_lda_test,4))"
   ]
  },
  {
   "cell_type": "code",
   "execution_count": 203,
   "metadata": {},
   "outputs": [
    {
     "name": "stdout",
     "output_type": "stream",
     "text": [
      "QDA training Error Rate: 0.2871\n",
      "QDA test Error Rate: 0.29\n"
     ]
    }
   ],
   "source": [
    "error_rate_qda_train=calculate_error_rate(clf_qda,df_train)\n",
    "error_rate_qda_test=calculate_error_rate(clf_qda,df_test)\n",
    "print ('QDA training Error Rate:',round(error_rate_qda_train,4))\n",
    "print ('QDA test Error Rate:',round(error_rate_qda_test,4))"
   ]
  },
  {
   "cell_type": "markdown",
   "metadata": {},
   "source": [
    "Write a function for the whole pipeline of LAD/QDA modeling with one dateset:"
   ]
  },
  {
   "cell_type": "code",
   "execution_count": 206,
   "metadata": {},
   "outputs": [],
   "source": [
    "#major pipeline for lda and qda with one dataset\n",
    "\n",
    "def lda_qda_pipeline(i):\n",
    "    #generate raw data-X (X1,X2)\n",
    "    random.seed(i)\n",
    "    X=[[random.uniform(-1,1),random.uniform(-1,1)] for i in range(1000)]\n",
    "    X1=[x1 for (x1,x2) in X]\n",
    "    X2=[x2 for (x1,x2) in X]\n",
    "    \n",
    "    #generate raw data-Y_simulated, and calculate category (True or False) accordingly (Y_sim>=0, True)\n",
    "    Y_sim=[x1+x2+random.normalvariate(0,1) for [x1,x2] in X]\n",
    "    category=[y>=0 for y in Y_sim]\n",
    "    \n",
    "    #organize into dataframe\n",
    "    df_lda=pd.DataFrame({'X':X,'X1':X1,'X2':X2,'Y':Y,'Y_sim':Y_sim,'Category':category})\n",
    "    \n",
    "    #split the dataset into training and test (70/30%)\n",
    "    df_train,df_test=split_data(df_lda,0.7)\n",
    "    \n",
    "    #consturct and fit in the LDA model\n",
    "    clf_lda=LDA()\n",
    "    clf_lda.fit(np.stack(df_train['X'], axis=0), df_train['Category'])\n",
    "    ER_lda_train=calculate_error_rate(clf_lda,df_train)\n",
    "    ER_lda_test=calculate_error_rate(clf_lda,df_test)\n",
    "    \n",
    "    clf_qda=QDA()\n",
    "    clf_qda.fit(np.stack(df_train['X'], axis=0), df_train['Category'])\n",
    "    ER_qda_train=calculate_error_rate(clf_qda,df_train)\n",
    "    ER_qda_test=calculate_error_rate(clf_qda,df_test)\n",
    "    return ER_lda_train,ER_lda_test,ER_qda_train,ER_qda_test\n",
    "    \n",
    "#function for split dataset (format as dataframe)\n",
    "def split_data(df,prob_of_train):\n",
    "    df = df.reindex(np.random.permutation(df.index))\n",
    "    TrainIndex = int(prob_of_train * len(df))\n",
    "    train_data = df[:TrainIndex].copy()\n",
    "    test_data = df[TrainIndex:].copy()\n",
    "    return train_data,test_data\n",
    "\n",
    "#function to calculate error_rate\n",
    "def calculate_error_rate(clf,df):\n",
    "    predictions=clf.predict(np.stack(df['X'], axis=0))\n",
    "    error_rate=1 -  sklearn.metrics.accuracy_score(df['Category'], predictions)\n",
    "    return error_rate"
   ]
  },
  {
   "cell_type": "markdown",
   "metadata": {},
   "source": [
    "**1000:** Implement 1000 times and save all the error rate for LDA/QDA (train and test dataset):"
   ]
  },
  {
   "cell_type": "code",
   "execution_count": 212,
   "metadata": {},
   "outputs": [],
   "source": [
    "#construct lists to restore error rates for both models (train and test)\n",
    "ER_lda_train_all=[]\n",
    "ER_lda_test_all=[]\n",
    "ER_qda_train_all=[]\n",
    "ER_qda_test_all=[]\n",
    "\n",
    "for i in range(1000):\n",
    "    #call the pipeline function to model LDA/QDA for each dataset\n",
    "    ER_lda_train,ER_lda_test,ER_qda_train,ER_qda_test=lda_qda_pipeline(i)\n",
    "    #save all the error rates results\n",
    "    ER_lda_train_all.append(ER_lda_train)\n",
    "    ER_lda_test_all.append(ER_lda_test)\n",
    "    ER_qda_train_all.append(ER_qda_train)\n",
    "    ER_qda_test_all.append(ER_qda_test)\n",
    "    \n",
    "#transform into dataframe structure \n",
    "df_ER=pd.DataFrame({'ER LDA Train':ER_lda_train_all,'ER LDA Test':ER_lda_test_all,'ER QDA Train':ER_qda_train_all,'ER QDA Test':ER_qda_test_all})"
   ]
  },
  {
   "cell_type": "code",
   "execution_count": 219,
   "metadata": {},
   "outputs": [
    {
     "data": {
      "text/html": [
       "<div>\n",
       "<style scoped>\n",
       "    .dataframe tbody tr th:only-of-type {\n",
       "        vertical-align: middle;\n",
       "    }\n",
       "\n",
       "    .dataframe tbody tr th {\n",
       "        vertical-align: top;\n",
       "    }\n",
       "\n",
       "    .dataframe thead th {\n",
       "        text-align: right;\n",
       "    }\n",
       "</style>\n",
       "<table border=\"1\" class=\"dataframe\">\n",
       "  <thead>\n",
       "    <tr style=\"text-align: right;\">\n",
       "      <th></th>\n",
       "      <th>ER LDA Train</th>\n",
       "      <th>ER LDA Test</th>\n",
       "      <th>ER QDA Train</th>\n",
       "      <th>ER QDA Test</th>\n",
       "    </tr>\n",
       "  </thead>\n",
       "  <tbody>\n",
       "    <tr>\n",
       "      <th>0</th>\n",
       "      <td>0.260000</td>\n",
       "      <td>0.296667</td>\n",
       "      <td>0.261429</td>\n",
       "      <td>0.296667</td>\n",
       "    </tr>\n",
       "    <tr>\n",
       "      <th>1</th>\n",
       "      <td>0.287143</td>\n",
       "      <td>0.273333</td>\n",
       "      <td>0.280000</td>\n",
       "      <td>0.280000</td>\n",
       "    </tr>\n",
       "    <tr>\n",
       "      <th>2</th>\n",
       "      <td>0.281429</td>\n",
       "      <td>0.290000</td>\n",
       "      <td>0.265714</td>\n",
       "      <td>0.290000</td>\n",
       "    </tr>\n",
       "    <tr>\n",
       "      <th>3</th>\n",
       "      <td>0.287143</td>\n",
       "      <td>0.290000</td>\n",
       "      <td>0.287143</td>\n",
       "      <td>0.280000</td>\n",
       "    </tr>\n",
       "    <tr>\n",
       "      <th>4</th>\n",
       "      <td>0.272857</td>\n",
       "      <td>0.263333</td>\n",
       "      <td>0.264286</td>\n",
       "      <td>0.243333</td>\n",
       "    </tr>\n",
       "    <tr>\n",
       "      <th>...</th>\n",
       "      <td>...</td>\n",
       "      <td>...</td>\n",
       "      <td>...</td>\n",
       "      <td>...</td>\n",
       "    </tr>\n",
       "    <tr>\n",
       "      <th>995</th>\n",
       "      <td>0.274286</td>\n",
       "      <td>0.253333</td>\n",
       "      <td>0.275714</td>\n",
       "      <td>0.270000</td>\n",
       "    </tr>\n",
       "    <tr>\n",
       "      <th>996</th>\n",
       "      <td>0.288571</td>\n",
       "      <td>0.300000</td>\n",
       "      <td>0.281429</td>\n",
       "      <td>0.296667</td>\n",
       "    </tr>\n",
       "    <tr>\n",
       "      <th>997</th>\n",
       "      <td>0.261429</td>\n",
       "      <td>0.270000</td>\n",
       "      <td>0.262857</td>\n",
       "      <td>0.273333</td>\n",
       "    </tr>\n",
       "    <tr>\n",
       "      <th>998</th>\n",
       "      <td>0.287143</td>\n",
       "      <td>0.316667</td>\n",
       "      <td>0.280000</td>\n",
       "      <td>0.316667</td>\n",
       "    </tr>\n",
       "    <tr>\n",
       "      <th>999</th>\n",
       "      <td>0.265714</td>\n",
       "      <td>0.266667</td>\n",
       "      <td>0.261429</td>\n",
       "      <td>0.270000</td>\n",
       "    </tr>\n",
       "  </tbody>\n",
       "</table>\n",
       "<p>1000 rows × 4 columns</p>\n",
       "</div>"
      ],
      "text/plain": [
       "     ER LDA Train  ER LDA Test  ER QDA Train  ER QDA Test\n",
       "0        0.260000     0.296667      0.261429     0.296667\n",
       "1        0.287143     0.273333      0.280000     0.280000\n",
       "2        0.281429     0.290000      0.265714     0.290000\n",
       "3        0.287143     0.290000      0.287143     0.280000\n",
       "4        0.272857     0.263333      0.264286     0.243333\n",
       "..            ...          ...           ...          ...\n",
       "995      0.274286     0.253333      0.275714     0.270000\n",
       "996      0.288571     0.300000      0.281429     0.296667\n",
       "997      0.261429     0.270000      0.262857     0.273333\n",
       "998      0.287143     0.316667      0.280000     0.316667\n",
       "999      0.265714     0.266667      0.261429     0.270000\n",
       "\n",
       "[1000 rows x 4 columns]"
      ]
     },
     "execution_count": 219,
     "metadata": {},
     "output_type": "execute_result"
    }
   ],
   "source": [
    "#all the error rates results\n",
    "df_ER"
   ]
  },
  {
   "cell_type": "markdown",
   "metadata": {},
   "source": [
    "**Mean & SD:** Calculate the mean and std of error rates of LDA/QDA models (both training and test dataset):"
   ]
  },
  {
   "cell_type": "code",
   "execution_count": 223,
   "metadata": {},
   "outputs": [],
   "source": [
    "#Calculate the mean and std of error rates of both models (train and test)\n",
    "lda_train=[df_ER['ER LDA Train'].mean(),df_ER['ER LDA Train'].std()]\n",
    "qda_train=[df_ER['ER QDA Train'].mean(),df_ER['ER QDA Train'].std()]\n",
    "lda_test=[df_ER['ER LDA Test'].mean(),df_ER['ER LDA Test'].std()]\n",
    "qda_test=[df_ER['ER QDA Test'].mean(),df_ER['ER QDA Test'].std()]\n",
    "result=['Mean','SD']\n",
    "\n",
    "df_ER_sum=pd.DataFrame({'ER LDA Train':lda_train,'ER LDA Test':lda_test,'ER QDA Train':qda_train,'ER QDA Test':qda_test},index=result)"
   ]
  },
  {
   "cell_type": "code",
   "execution_count": 224,
   "metadata": {},
   "outputs": [
    {
     "data": {
      "text/html": [
       "<div>\n",
       "<style scoped>\n",
       "    .dataframe tbody tr th:only-of-type {\n",
       "        vertical-align: middle;\n",
       "    }\n",
       "\n",
       "    .dataframe tbody tr th {\n",
       "        vertical-align: top;\n",
       "    }\n",
       "\n",
       "    .dataframe thead th {\n",
       "        text-align: right;\n",
       "    }\n",
       "</style>\n",
       "<table border=\"1\" class=\"dataframe\">\n",
       "  <thead>\n",
       "    <tr style=\"text-align: right;\">\n",
       "      <th></th>\n",
       "      <th>ER LDA Train</th>\n",
       "      <th>ER LDA Test</th>\n",
       "      <th>ER QDA Train</th>\n",
       "      <th>ER QDA Test</th>\n",
       "    </tr>\n",
       "  </thead>\n",
       "  <tbody>\n",
       "    <tr>\n",
       "      <th>Mean</th>\n",
       "      <td>0.272426</td>\n",
       "      <td>0.276513</td>\n",
       "      <td>0.271359</td>\n",
       "      <td>0.276473</td>\n",
       "    </tr>\n",
       "    <tr>\n",
       "      <th>SD</th>\n",
       "      <td>0.016722</td>\n",
       "      <td>0.024902</td>\n",
       "      <td>0.016697</td>\n",
       "      <td>0.024819</td>\n",
       "    </tr>\n",
       "  </tbody>\n",
       "</table>\n",
       "</div>"
      ],
      "text/plain": [
       "      ER LDA Train  ER LDA Test  ER QDA Train  ER QDA Test\n",
       "Mean      0.272426     0.276513      0.271359     0.276473\n",
       "SD        0.016722     0.024902      0.016697     0.024819"
      ]
     },
     "execution_count": 224,
     "metadata": {},
     "output_type": "execute_result"
    }
   ],
   "source": [
    "df_ER_sum"
   ]
  },
  {
   "cell_type": "markdown",
   "metadata": {},
   "source": [
    "As we can see from the table above, the averaged Error rates between LDA and QDA has no difference in both training and test dataset; it also has identical standard deviation between these two methods. Therefore, we could preliminarily conclude that if the bayes decision boundary is linear, the performance of LDA and QDA is close to each other and has no difference (both on Training and Test dataset).\n",
    "\n",
    "To further examine this conclusion, I draw boxplot of error rates of these two methods to better see their distribution-*whether they are identical or not:*"
   ]
  },
  {
   "cell_type": "code",
   "execution_count": 229,
   "metadata": {},
   "outputs": [
    {
     "data": {
      "image/png": "[encoded data removed]",
      "text/plain": [
       "<Figure size 432x288 with 1 Axes>"
      ]
     },
     "metadata": {
      "needs_background": "light"
     },
     "output_type": "display_data"
    }
   ],
   "source": [
    "#draw boxplot graph on both LDA/QDA methods on Training and Test dataset\n",
    "df_ER.plot.box(grid=True);\n",
    "plt.xlabel('Classification Methods & Dataset');\n",
    "plt.ylabel('Error Rate');\n",
    "plt.title('Boxplot for LDA/QDA Error Rates-Train&Test');"
   ]
  },
  {
   "cell_type": "markdown",
   "metadata": {},
   "source": [
    "From the boxplot above, we could see that error rates of LDA and QDA have totally identical distributions, for both training and test dataset; hence, I am more confirmed that if the Bayes decision boundary is linear,there is no difference of performance of these two methods (QDA and LDA)."
   ]
  },
  {
   "cell_type": "markdown",
   "metadata": {},
   "source": [
    "## Question 3"
   ]
  },
  {
   "cell_type": "markdown",
   "metadata": {},
   "source": [
    "To examine the conclusion under a different condition/pre-assumption: non-linear decision boundary, I repeat the whole procedure in Quesiton 2 except for changing the funciton of Y. \n",
    "\n",
    "First of all,revise basic pipeline function of each dataset in Question 2:"
   ]
  },
  {
   "cell_type": "code",
   "execution_count": 230,
   "metadata": {},
   "outputs": [],
   "source": [
    "#major pipeline for lda and qda with one dataset\n",
    "\n",
    "def lda_qda_pipeline_q3(i):\n",
    "    #generate raw data-X (X1,X2)\n",
    "    random.seed(i)\n",
    "    X=[[random.uniform(-1,1),random.uniform(-1,1)] for i in range(1000)]\n",
    "    X1=[x1 for (x1,x2) in X]\n",
    "    X2=[x2 for (x1,x2) in X]\n",
    "    \n",
    "    #generate raw data-Y_simulated, and calculate category (True or False) accordingly (Y_sim>=0, True)\n",
    "    Y_sim=[x1+x1*x1+x2+x2*x2+random.normalvariate(0,1) for [x1,x2] in X]\n",
    "    category=[y>=0 for y in Y_sim]\n",
    "    \n",
    "    #organize into dataframe\n",
    "    df_lda=pd.DataFrame({'X':X,'X1':X1,'X2':X2,'Y':Y,'Y_sim':Y_sim,'Category':category})\n",
    "    \n",
    "    #split the dataset into training and test (70/30%)\n",
    "    df_train,df_test=split_data(df_lda,0.7)\n",
    "    \n",
    "    #consturct and fit in the LDA model\n",
    "    clf_lda=LDA()\n",
    "    clf_lda.fit(np.stack(df_train['X'], axis=0), df_train['Category'])\n",
    "    ER_lda_train=calculate_error_rate(clf_lda,df_train)\n",
    "    ER_lda_test=calculate_error_rate(clf_lda,df_test)\n",
    "    \n",
    "    clf_qda=QDA()\n",
    "    clf_qda.fit(np.stack(df_train['X'], axis=0), df_train['Category'])\n",
    "    ER_qda_train=calculate_error_rate(clf_qda,df_train)\n",
    "    ER_qda_test=calculate_error_rate(clf_qda,df_test)\n",
    "    return ER_lda_train,ER_lda_test,ER_qda_train,ER_qda_test\n",
    "    \n",
    "#function for split dataset (format as dataframe)\n",
    "def split_data(df,prob_of_train):\n",
    "    df = df.reindex(np.random.permutation(df.index))\n",
    "    TrainIndex = int(prob_of_train * len(df))\n",
    "    train_data = df[:TrainIndex].copy()\n",
    "    test_data = df[TrainIndex:].copy()\n",
    "    return train_data,test_data\n",
    "\n",
    "#function to calculate error_rate\n",
    "def calculate_error_rate(clf,df):\n",
    "    predictions=clf.predict(np.stack(df['X'], axis=0))\n",
    "    error_rate=1 -  sklearn.metrics.accuracy_score(df['Category'], predictions)\n",
    "    return error_rate"
   ]
  },
  {
   "cell_type": "markdown",
   "metadata": {},
   "source": [
    "**1000:** Implement 1000 times and save all the error rate for LDA/QDA (train and test dataset):"
   ]
  },
  {
   "cell_type": "code",
   "execution_count": 232,
   "metadata": {},
   "outputs": [],
   "source": [
    "#construct lists to restore error rates for both models (train and test)\n",
    "ER_lda_train_all=[]\n",
    "ER_lda_test_all=[]\n",
    "ER_qda_train_all=[]\n",
    "ER_qda_test_all=[]\n",
    "\n",
    "for i in range(1000):\n",
    "    #call the pipeline function to model LDA/QDA for each dataset\n",
    "    ER_lda_train,ER_lda_test,ER_qda_train,ER_qda_test=lda_qda_pipeline_q3(i)\n",
    "    #save all the error rates results\n",
    "    ER_lda_train_all.append(ER_lda_train)\n",
    "    ER_lda_test_all.append(ER_lda_test)\n",
    "    ER_qda_train_all.append(ER_qda_train)\n",
    "    ER_qda_test_all.append(ER_qda_test)\n",
    "    \n",
    "#transform into dataframe structure \n",
    "df_ER2=pd.DataFrame({'ER LDA Train':ER_lda_train_all,'ER LDA Test':ER_lda_test_all,'ER QDA Train':ER_qda_train_all,'ER QDA Test':ER_qda_test_all})"
   ]
  },
  {
   "cell_type": "code",
   "execution_count": 233,
   "metadata": {},
   "outputs": [
    {
     "data": {
      "text/html": [
       "<div>\n",
       "<style scoped>\n",
       "    .dataframe tbody tr th:only-of-type {\n",
       "        vertical-align: middle;\n",
       "    }\n",
       "\n",
       "    .dataframe tbody tr th {\n",
       "        vertical-align: top;\n",
       "    }\n",
       "\n",
       "    .dataframe thead th {\n",
       "        text-align: right;\n",
       "    }\n",
       "</style>\n",
       "<table border=\"1\" class=\"dataframe\">\n",
       "  <thead>\n",
       "    <tr style=\"text-align: right;\">\n",
       "      <th></th>\n",
       "      <th>ER LDA Train</th>\n",
       "      <th>ER LDA Test</th>\n",
       "      <th>ER QDA Train</th>\n",
       "      <th>ER QDA Test</th>\n",
       "    </tr>\n",
       "  </thead>\n",
       "  <tbody>\n",
       "    <tr>\n",
       "      <th>0</th>\n",
       "      <td>0.285714</td>\n",
       "      <td>0.283333</td>\n",
       "      <td>0.278571</td>\n",
       "      <td>0.280000</td>\n",
       "    </tr>\n",
       "    <tr>\n",
       "      <th>1</th>\n",
       "      <td>0.271429</td>\n",
       "      <td>0.260000</td>\n",
       "      <td>0.264286</td>\n",
       "      <td>0.243333</td>\n",
       "    </tr>\n",
       "    <tr>\n",
       "      <th>2</th>\n",
       "      <td>0.288571</td>\n",
       "      <td>0.293333</td>\n",
       "      <td>0.265714</td>\n",
       "      <td>0.293333</td>\n",
       "    </tr>\n",
       "    <tr>\n",
       "      <th>3</th>\n",
       "      <td>0.298571</td>\n",
       "      <td>0.283333</td>\n",
       "      <td>0.300000</td>\n",
       "      <td>0.233333</td>\n",
       "    </tr>\n",
       "    <tr>\n",
       "      <th>4</th>\n",
       "      <td>0.251429</td>\n",
       "      <td>0.203333</td>\n",
       "      <td>0.234286</td>\n",
       "      <td>0.203333</td>\n",
       "    </tr>\n",
       "    <tr>\n",
       "      <th>...</th>\n",
       "      <td>...</td>\n",
       "      <td>...</td>\n",
       "      <td>...</td>\n",
       "      <td>...</td>\n",
       "    </tr>\n",
       "    <tr>\n",
       "      <th>995</th>\n",
       "      <td>0.292857</td>\n",
       "      <td>0.243333</td>\n",
       "      <td>0.267143</td>\n",
       "      <td>0.236667</td>\n",
       "    </tr>\n",
       "    <tr>\n",
       "      <th>996</th>\n",
       "      <td>0.285714</td>\n",
       "      <td>0.290000</td>\n",
       "      <td>0.262857</td>\n",
       "      <td>0.256667</td>\n",
       "    </tr>\n",
       "    <tr>\n",
       "      <th>997</th>\n",
       "      <td>0.270000</td>\n",
       "      <td>0.283333</td>\n",
       "      <td>0.257143</td>\n",
       "      <td>0.283333</td>\n",
       "    </tr>\n",
       "    <tr>\n",
       "      <th>998</th>\n",
       "      <td>0.272857</td>\n",
       "      <td>0.306667</td>\n",
       "      <td>0.254286</td>\n",
       "      <td>0.293333</td>\n",
       "    </tr>\n",
       "    <tr>\n",
       "      <th>999</th>\n",
       "      <td>0.271429</td>\n",
       "      <td>0.250000</td>\n",
       "      <td>0.260000</td>\n",
       "      <td>0.240000</td>\n",
       "    </tr>\n",
       "  </tbody>\n",
       "</table>\n",
       "<p>1000 rows × 4 columns</p>\n",
       "</div>"
      ],
      "text/plain": [
       "     ER LDA Train  ER LDA Test  ER QDA Train  ER QDA Test\n",
       "0        0.285714     0.283333      0.278571     0.280000\n",
       "1        0.271429     0.260000      0.264286     0.243333\n",
       "2        0.288571     0.293333      0.265714     0.293333\n",
       "3        0.298571     0.283333      0.300000     0.233333\n",
       "4        0.251429     0.203333      0.234286     0.203333\n",
       "..            ...          ...           ...          ...\n",
       "995      0.292857     0.243333      0.267143     0.236667\n",
       "996      0.285714     0.290000      0.262857     0.256667\n",
       "997      0.270000     0.283333      0.257143     0.283333\n",
       "998      0.272857     0.306667      0.254286     0.293333\n",
       "999      0.271429     0.250000      0.260000     0.240000\n",
       "\n",
       "[1000 rows x 4 columns]"
      ]
     },
     "execution_count": 233,
     "metadata": {},
     "output_type": "execute_result"
    }
   ],
   "source": [
    "#all the error rates results over 1000 iterations\n",
    "df_ER2"
   ]
  },
  {
   "cell_type": "markdown",
   "metadata": {},
   "source": [
    "**Mean & SD:** Calculate the mean and std of error rates of LDA/QDA models (both training and test dataset):"
   ]
  },
  {
   "cell_type": "code",
   "execution_count": 235,
   "metadata": {},
   "outputs": [],
   "source": [
    "#Calculate the mean and std of error rates of both models (train and test)\n",
    "lda_train=[df_ER2['ER LDA Train'].mean(),df_ER2['ER LDA Train'].std()]\n",
    "qda_train=[df_ER2['ER QDA Train'].mean(),df_ER2['ER QDA Train'].std()]\n",
    "lda_test=[df_ER2['ER LDA Test'].mean(),df_ER2['ER LDA Test'].std()]\n",
    "qda_test=[df_ER2['ER QDA Test'].mean(),df_ER2['ER QDA Test'].std()]\n",
    "result=['Mean','SD']\n",
    "\n",
    "df_ER2_sum=pd.DataFrame({'ER LDA Train':lda_train,'ER LDA Test':lda_test,'ER QDA Train':qda_train,'ER QDA Test':qda_test},index=result)"
   ]
  },
  {
   "cell_type": "code",
   "execution_count": 236,
   "metadata": {},
   "outputs": [
    {
     "data": {
      "text/html": [
       "<div>\n",
       "<style scoped>\n",
       "    .dataframe tbody tr th:only-of-type {\n",
       "        vertical-align: middle;\n",
       "    }\n",
       "\n",
       "    .dataframe tbody tr th {\n",
       "        vertical-align: top;\n",
       "    }\n",
       "\n",
       "    .dataframe thead th {\n",
       "        text-align: right;\n",
       "    }\n",
       "</style>\n",
       "<table border=\"1\" class=\"dataframe\">\n",
       "  <thead>\n",
       "    <tr style=\"text-align: right;\">\n",
       "      <th></th>\n",
       "      <th>ER LDA Train</th>\n",
       "      <th>ER LDA Test</th>\n",
       "      <th>ER QDA Train</th>\n",
       "      <th>ER QDA Test</th>\n",
       "    </tr>\n",
       "  </thead>\n",
       "  <tbody>\n",
       "    <tr>\n",
       "      <th>Mean</th>\n",
       "      <td>0.272276</td>\n",
       "      <td>0.274433</td>\n",
       "      <td>0.258761</td>\n",
       "      <td>0.261427</td>\n",
       "    </tr>\n",
       "    <tr>\n",
       "      <th>SD</th>\n",
       "      <td>0.017130</td>\n",
       "      <td>0.026776</td>\n",
       "      <td>0.016641</td>\n",
       "      <td>0.027081</td>\n",
       "    </tr>\n",
       "  </tbody>\n",
       "</table>\n",
       "</div>"
      ],
      "text/plain": [
       "      ER LDA Train  ER LDA Test  ER QDA Train  ER QDA Test\n",
       "Mean      0.272276     0.274433      0.258761     0.261427\n",
       "SD        0.017130     0.026776      0.016641     0.027081"
      ]
     },
     "execution_count": 236,
     "metadata": {},
     "output_type": "execute_result"
    }
   ],
   "source": [
    "df_ER2_sum"
   ]
  },
  {
   "cell_type": "markdown",
   "metadata": {},
   "source": [
    "As we can see from the table above, while standard deviation of error rates is similar between LDA and QDA on Training and Test Dataset, the mean of error rates is generally small with QDA methods, on both Training and Test dataset (generally, error rates of Test dataset is a little bit higher than Training dataset, and is at a reasonable range).Performance of QDA on non-linear decision boundary is better than LDA.\n",
    "\n",
    "To further examine this conclusion, I draw boxplot of error rates of these two methods to better see their distribution-*whether QDA generally performs better than LDA on non-linear dataset:*"
   ]
  },
  {
   "cell_type": "code",
   "execution_count": 237,
   "metadata": {},
   "outputs": [
    {
     "data": {
      "image/png": "[encoded data removed]",
      "text/plain": [
       "<Figure size 432x288 with 1 Axes>"
      ]
     },
     "metadata": {
      "needs_background": "light"
     },
     "output_type": "display_data"
    }
   ],
   "source": [
    "#draw boxplot graph on both LDA/QDA methods on Training and Test dataset\n",
    "df_ER2.plot.box(grid=True);\n",
    "plt.xlabel('Classification Methods & Dataset');\n",
    "plt.ylabel('Error Rate');\n",
    "plt.title('Boxplot for LDA/QDA Error Rates-Train&Test--Nonlinear');"
   ]
  },
  {
   "cell_type": "markdown",
   "metadata": {},
   "source": [
    "The boxplot further proves that, QDA performs generally better than LDA with non-linear dataset. Overall, the error rates of QDA is smaller than LDA both on Training and Test dataset. "
   ]
  },
  {
   "cell_type": "markdown",
   "metadata": {},
   "source": [
    "## Question 4"
   ]
  },
  {
   "cell_type": "markdown",
   "metadata": {},
   "source": [
    "To examine LDA/QDA's performance on different size of sample from 100, to 100000. First of all, I revise the basic pipline function of each single dataset to acommondate for different sample sizes:"
   ]
  },
  {
   "cell_type": "code",
   "execution_count": 262,
   "metadata": {},
   "outputs": [],
   "source": [
    "#major pipeline for lda and qda with one dataset\n",
    "\n",
    "def lda_qda_pipeline_q4(i,sample_size):\n",
    "    #generate raw data-X (X1,X2)\n",
    "    random.seed(i)\n",
    "    X=[[random.uniform(-1,1),random.uniform(-1,1)] for i in range(sample_size)]\n",
    "    X1=[x1 for (x1,x2) in X]\n",
    "    X2=[x2 for (x1,x2) in X]\n",
    "    \n",
    "    #generate raw data-Y_simulated, and calculate category (True or False) accordingly (Y_sim>=0, True)\n",
    "    Y_sim=[x1+x2+random.normalvariate(0,1) for [x1,x2] in X]\n",
    "    category=[y>=0 for y in Y_sim]\n",
    "    \n",
    "    #organize into dataframe\n",
    "    df_lda=pd.DataFrame({'X':X,'X1':X1,'X2':X2,'Y_sim':Y_sim,'Category':category})\n",
    "    \n",
    "    #split the dataset into training and test (70/30%)\n",
    "    df_train,df_test=split_data(df_lda,0.7)\n",
    "    \n",
    "    #consturct and fit in the LDA model\n",
    "    clf_lda=LDA()\n",
    "    clf_lda.fit(np.stack(df_train['X'], axis=0), df_train['Category'])\n",
    "    ER_lda_train=calculate_error_rate(clf_lda,df_train)\n",
    "    ER_lda_test=calculate_error_rate(clf_lda,df_test)\n",
    "    \n",
    "    clf_qda=QDA()\n",
    "    clf_qda.fit(np.stack(df_train['X'], axis=0), df_train['Category'])\n",
    "    ER_qda_train=calculate_error_rate(clf_qda,df_train)\n",
    "    ER_qda_test=calculate_error_rate(clf_qda,df_test)\n",
    "    return ER_lda_train,ER_lda_test,ER_qda_train,ER_qda_test\n",
    "    \n",
    "#function for split dataset (format as dataframe)\n",
    "def split_data(df,prob_of_train):\n",
    "    df = df.reindex(np.random.permutation(df.index))\n",
    "    TrainIndex = int(prob_of_train * len(df))\n",
    "    train_data = df[:TrainIndex].copy()\n",
    "    test_data = df[TrainIndex:].copy()\n",
    "    return train_data,test_data\n",
    "\n",
    "#function to calculate error_rate\n",
    "def calculate_error_rate(clf,df):\n",
    "    predictions=clf.predict(np.stack(df['X'], axis=0))\n",
    "    error_rate=1 -  sklearn.metrics.accuracy_score(df['Category'], predictions)\n",
    "    return error_rate"
   ]
  },
  {
   "cell_type": "markdown",
   "metadata": {},
   "source": [
    "**1000 | 4 Size of Sample:** Implement 1000 times and save all the error rate for LDA/QDA (train and test dataset):"
   ]
  },
  {
   "cell_type": "code",
   "execution_count": 247,
   "metadata": {},
   "outputs": [],
   "source": [
    "#create lists to save error rates data for 4 conditions\n",
    "ER_lda_train_all=[[]]*4\n",
    "ER_lda_test_all=[[]]*4\n",
    "ER_qda_train_all=[[]]*4\n",
    "ER_qda_test_all=[[]]*4"
   ]
  },
  {
   "cell_type": "code",
   "execution_count": 264,
   "metadata": {},
   "outputs": [],
   "source": [
    "#iterate over 4 types of sample sizes\n",
    "for sam_id, sample_size in enumerate([100,1000,10000,100000]):\n",
    "    iteration_nums=1000;\n",
    "    #save error rate for each condition\n",
    "    ER_lda_train_all0=[]\n",
    "    ER_lda_test_all0=[]\n",
    "    ER_qda_train_all0=[]\n",
    "    ER_qda_test_all0=[]\n",
    "    \n",
    "    for i in range(iteration_nums):\n",
    "        #call the pipeline function to model LDA/QDA for each dataset\n",
    "        ER_lda_train,ER_lda_test,ER_qda_train,ER_qda_test=lda_qda_pipeline_q4(i,sample_size)\n",
    "        #save all the error rates results\n",
    "        ER_lda_train_all0.append(ER_lda_train)\n",
    "        ER_lda_test_all0.append(ER_lda_test)\n",
    "        ER_qda_train_all0.append(ER_qda_train)\n",
    "        ER_qda_test_all0.append(ER_qda_test)\n",
    "    \n",
    "    ER_lda_train_all[sam_id]=ER_lda_train_all0\n",
    "    ER_lda_test_all[sam_id]=ER_lda_test_all0\n",
    "    ER_qda_train_all[sam_id]=ER_qda_train_all0\n",
    "    ER_qda_test_all[sam_id]=ER_qda_test_all0"
   ]
  },
  {
   "cell_type": "code",
   "execution_count": 280,
   "metadata": {},
   "outputs": [
    {
     "data": {
      "text/html": [
       "<div>\n",
       "<style scoped>\n",
       "    .dataframe tbody tr th:only-of-type {\n",
       "        vertical-align: middle;\n",
       "    }\n",
       "\n",
       "    .dataframe tbody tr th {\n",
       "        vertical-align: top;\n",
       "    }\n",
       "\n",
       "    .dataframe thead th {\n",
       "        text-align: right;\n",
       "    }\n",
       "</style>\n",
       "<table border=\"1\" class=\"dataframe\">\n",
       "  <thead>\n",
       "    <tr style=\"text-align: right;\">\n",
       "      <th></th>\n",
       "      <th>ER LDA Test 100</th>\n",
       "      <th>ER QDA Test 100</th>\n",
       "      <th>ER LDA Test 1000</th>\n",
       "      <th>ER QDA Test 1000</th>\n",
       "      <th>ER LDA Test 10000</th>\n",
       "      <th>ER QDA Test 10000</th>\n",
       "      <th>ER LDA Test 100000</th>\n",
       "      <th>ER QDA Test 100000</th>\n",
       "    </tr>\n",
       "  </thead>\n",
       "  <tbody>\n",
       "    <tr>\n",
       "      <th>0</th>\n",
       "      <td>0.366667</td>\n",
       "      <td>0.366667</td>\n",
       "      <td>0.286667</td>\n",
       "      <td>0.290000</td>\n",
       "      <td>0.295000</td>\n",
       "      <td>0.295333</td>\n",
       "      <td>0.277667</td>\n",
       "      <td>0.278267</td>\n",
       "    </tr>\n",
       "    <tr>\n",
       "      <th>1</th>\n",
       "      <td>0.266667</td>\n",
       "      <td>0.233333</td>\n",
       "      <td>0.283333</td>\n",
       "      <td>0.286667</td>\n",
       "      <td>0.277667</td>\n",
       "      <td>0.277333</td>\n",
       "      <td>0.273833</td>\n",
       "      <td>0.273667</td>\n",
       "    </tr>\n",
       "    <tr>\n",
       "      <th>2</th>\n",
       "      <td>0.166667</td>\n",
       "      <td>0.200000</td>\n",
       "      <td>0.293333</td>\n",
       "      <td>0.290000</td>\n",
       "      <td>0.282000</td>\n",
       "      <td>0.281667</td>\n",
       "      <td>0.272400</td>\n",
       "      <td>0.272767</td>\n",
       "    </tr>\n",
       "    <tr>\n",
       "      <th>3</th>\n",
       "      <td>0.266667</td>\n",
       "      <td>0.266667</td>\n",
       "      <td>0.286667</td>\n",
       "      <td>0.286667</td>\n",
       "      <td>0.280333</td>\n",
       "      <td>0.280000</td>\n",
       "      <td>0.273533</td>\n",
       "      <td>0.273533</td>\n",
       "    </tr>\n",
       "    <tr>\n",
       "      <th>4</th>\n",
       "      <td>0.233333</td>\n",
       "      <td>0.266667</td>\n",
       "      <td>0.253333</td>\n",
       "      <td>0.266667</td>\n",
       "      <td>0.288000</td>\n",
       "      <td>0.286000</td>\n",
       "      <td>0.280067</td>\n",
       "      <td>0.280000</td>\n",
       "    </tr>\n",
       "  </tbody>\n",
       "</table>\n",
       "</div>"
      ],
      "text/plain": [
       "   ER LDA Test 100  ER QDA Test 100  ER LDA Test 1000  ER QDA Test 1000  \\\n",
       "0         0.366667         0.366667          0.286667          0.290000   \n",
       "1         0.266667         0.233333          0.283333          0.286667   \n",
       "2         0.166667         0.200000          0.293333          0.290000   \n",
       "3         0.266667         0.266667          0.286667          0.286667   \n",
       "4         0.233333         0.266667          0.253333          0.266667   \n",
       "\n",
       "   ER LDA Test 10000  ER QDA Test 10000  ER LDA Test 100000  \\\n",
       "0           0.295000           0.295333            0.277667   \n",
       "1           0.277667           0.277333            0.273833   \n",
       "2           0.282000           0.281667            0.272400   \n",
       "3           0.280333           0.280000            0.273533   \n",
       "4           0.288000           0.286000            0.280067   \n",
       "\n",
       "   ER QDA Test 100000  \n",
       "0            0.278267  \n",
       "1            0.273667  \n",
       "2            0.272767  \n",
       "3            0.273533  \n",
       "4            0.280000  "
      ]
     },
     "execution_count": 280,
     "metadata": {},
     "output_type": "execute_result"
    }
   ],
   "source": [
    "#transform error rates of 1000 iterations, LDA/LDR, 4 sample sizes into one dataframe structure \n",
    "df_ER3=pd.DataFrame({'ER LDA Test 100':ER_lda_test_all[0],'ER QDA Test 100':ER_qda_test_all[0],'ER LDA Test 1000':ER_lda_test_all[1],'ER QDA Test 1000':ER_qda_test_all[1],'ER LDA Test 10000':ER_lda_test_all[2],'ER QDA Test 10000':ER_qda_test_all[2],'ER LDA Test 100000':ER_lda_test_all[3],'ER QDA Test 100000':ER_qda_test_all[3]})\n",
    "df_ER3.head()"
   ]
  },
  {
   "cell_type": "markdown",
   "metadata": {},
   "source": [
    "**Mean & SD | 4 Sample Size:** Calculate the mean and std of error rates of LDA/QDA models on test dataset, for 4 sample size"
   ]
  },
  {
   "cell_type": "code",
   "execution_count": 281,
   "metadata": {},
   "outputs": [],
   "source": [
    "#Calculate the mean and std of error rates of both models (Test dataset) for 4 sample sizes\n",
    "lda_test1=list(map(lambda x:round(x,3),[df_ER3['ER LDA Test 100'].mean(),df_ER3['ER LDA Test 100'].std()]))\n",
    "qda_test1=list(map(lambda x:round(x,3),[df_ER3['ER QDA Test 100'].mean(),df_ER3['ER QDA Test 100'].std()]))\n",
    "lda_test2=list(map(lambda x:round(x,3),[df_ER3['ER LDA Test 1000'].mean(),df_ER3['ER LDA Test 1000'].std()]))\n",
    "qda_test2=list(map(lambda x:round(x,3),[df_ER3['ER QDA Test 1000'].mean(),df_ER3['ER QDA Test 1000'].std()]))\n",
    "lda_test3=list(map(lambda x:round(x,3),[df_ER3['ER LDA Test 10000'].mean(),df_ER3['ER LDA Test 10000'].std()]))\n",
    "qda_test3=list(map(lambda x:round(x,3),[df_ER3['ER QDA Test 10000'].mean(),df_ER3['ER QDA Test 10000'].std()]))\n",
    "lda_test4=list(map(lambda x:round(x,3),[df_ER3['ER LDA Test 100000'].mean(),df_ER3['ER LDA Test 100000'].std()]))\n",
    "qda_test4=list(map(lambda x:round(x,3),[df_ER3['ER QDA Test 100000'].mean(),df_ER3['ER QDA Test 100000'].std()]))\n",
    "result=['Mean','SD']\n",
    "\n",
    "df_ER_sum=pd.DataFrame({'ER LDA Test 100':lda_test1,'ER QDA Test 100':qda_test1,'ER LDA Test 1000':lda_test2,'ER QDA Test 1000':qda_test2,'ER LDA Test 10000':lda_test3,'ER QDA Test 10000':qda_test3,'ER LDA Test 100000':lda_test4,'ER QDA Test 100000':qda_test4},index=result)"
   ]
  },
  {
   "cell_type": "code",
   "execution_count": 282,
   "metadata": {},
   "outputs": [
    {
     "data": {
      "text/html": [
       "<div>\n",
       "<style scoped>\n",
       "    .dataframe tbody tr th:only-of-type {\n",
       "        vertical-align: middle;\n",
       "    }\n",
       "\n",
       "    .dataframe tbody tr th {\n",
       "        vertical-align: top;\n",
       "    }\n",
       "\n",
       "    .dataframe thead th {\n",
       "        text-align: right;\n",
       "    }\n",
       "</style>\n",
       "<table border=\"1\" class=\"dataframe\">\n",
       "  <thead>\n",
       "    <tr style=\"text-align: right;\">\n",
       "      <th></th>\n",
       "      <th>ER LDA Test 100</th>\n",
       "      <th>ER QDA Test 100</th>\n",
       "      <th>ER LDA Test 1000</th>\n",
       "      <th>ER QDA Test 1000</th>\n",
       "      <th>ER LDA Test 10000</th>\n",
       "      <th>ER QDA Test 10000</th>\n",
       "      <th>ER LDA Test 100000</th>\n",
       "      <th>ER QDA Test 100000</th>\n",
       "    </tr>\n",
       "  </thead>\n",
       "  <tbody>\n",
       "    <tr>\n",
       "      <th>Mean</th>\n",
       "      <td>0.286</td>\n",
       "      <td>0.287</td>\n",
       "      <td>0.275</td>\n",
       "      <td>0.276</td>\n",
       "      <td>0.276</td>\n",
       "      <td>0.276</td>\n",
       "      <td>0.275</td>\n",
       "      <td>0.275</td>\n",
       "    </tr>\n",
       "    <tr>\n",
       "      <th>SD</th>\n",
       "      <td>0.084</td>\n",
       "      <td>0.085</td>\n",
       "      <td>0.025</td>\n",
       "      <td>0.025</td>\n",
       "      <td>0.008</td>\n",
       "      <td>0.008</td>\n",
       "      <td>0.003</td>\n",
       "      <td>0.003</td>\n",
       "    </tr>\n",
       "  </tbody>\n",
       "</table>\n",
       "</div>"
      ],
      "text/plain": [
       "      ER LDA Test 100  ER QDA Test 100  ER LDA Test 1000  ER QDA Test 1000  \\\n",
       "Mean            0.286            0.287             0.275             0.276   \n",
       "SD              0.084            0.085             0.025             0.025   \n",
       "\n",
       "      ER LDA Test 10000  ER QDA Test 10000  ER LDA Test 100000  \\\n",
       "Mean              0.276              0.276               0.275   \n",
       "SD                0.008              0.008               0.003   \n",
       "\n",
       "      ER QDA Test 100000  \n",
       "Mean               0.275  \n",
       "SD                 0.003  "
      ]
     },
     "execution_count": 282,
     "metadata": {},
     "output_type": "execute_result"
    }
   ],
   "source": [
    "df_ER_sum"
   ]
  },
  {
   "cell_type": "markdown",
   "metadata": {},
   "source": [
    "* From the table above, we could basicly find that the average error rate gradually converged to a stable level on test dataset, for both LDA and QDA methods, around 27.5%. The standard deviation decreases greatly from 100 samples (0.084~0.085) to 100000 samples (0.003). The difference between LDA and QDA decreases.\n",
    "\n",
    "**Plot Bar & Line** graphs for better visualization: "
   ]
  },
  {
   "cell_type": "code",
   "execution_count": 287,
   "metadata": {},
   "outputs": [],
   "source": [
    "#organize the error rates for plot\n",
    "ER_lda_all_sam_mean=list(map(lambda x: sum(x)/1000,ER_lda_test_all))\n",
    "ER_lda_all_sam_std=list(map(lambda x: np.std(np.array(x),ddof=1),ER_lda_test_all))\n",
    "ER_qda_all_sam_mean=list(map(lambda x: sum(x)/1000,ER_qda_test_all))\n",
    "ER_qda_all_sam_std=list(map(lambda x: np.std(np.array(x),ddof=1),ER_qda_test_all))"
   ]
  },
  {
   "cell_type": "code",
   "execution_count": 314,
   "metadata": {},
   "outputs": [
    {
     "data": {
      "image/png": "[encoded data removed]",
      "text/plain": [
       "<Figure size 432x288 with 1 Axes>"
      ]
     },
     "metadata": {
      "needs_background": "light"
     },
     "output_type": "display_data"
    }
   ],
   "source": [
    "#Plot bar graph, with lines and std for LDA/QDA and each sample size\n",
    "label=['100','1000','10000','100000']\n",
    "index=np.arange(len(label))\n",
    "width=0.3\n",
    "\n",
    "mean1=ER_lda_all_sam_mean\n",
    "std1=ER_lda_all_sam_std\n",
    "mean2=ER_qda_all_sam_mean\n",
    "std2=ER_qda_all_sam_std\n",
    "\n",
    "plt.bar(index,mean1,width,yerr=std1,error_kw = {'ecolor' : '0.2', 'capsize' :6},color='SkyBlue',label='LDA') \n",
    "plt.bar(index+width,mean2,width,yerr=std2,error_kw = {'ecolor' : '0.2', 'capsize' :6},color='IndianRed',label='QDA')\n",
    "plt.plot(index+width,mean1,color='SkyBlue')\n",
    "plt.plot(index+width,mean2,color='IndianRed')\n",
    "\n",
    "plt.xlabel('Sample Size')\n",
    "plt.ylabel('Error Rate')\n",
    "plt.xticks(index+width/2,label,FontSize=12)\n",
    "plt.legend()\n",
    "plt.title('Error Rates of LDA/QDA across Sample Size');"
   ]
  },
  {
   "cell_type": "markdown",
   "metadata": {},
   "source": [
    "The bar and line graph further validates the finding above: 1) with the increase of sample size, the variance and bias (error-rate) of prediction both drop,especially for the variance that large sample size capturing more information in the dataset contributes to a much more stable and better model,with both QDA/LDA techqniues; 2) because QDA is more flexible, with higher variance initially, its variance and accuracy should improve most, while it is not very clear from this graph."
   ]
  },
  {
   "cell_type": "markdown",
   "metadata": {},
   "source": [
    "# Modeling voter turnout\n",
    "\n",
    "## Question 5\n",
    "\n",
    "* First of all, loading the dataset into dataframe:"
   ]
  },
  {
   "cell_type": "code",
   "execution_count": 355,
   "metadata": {},
   "outputs": [
    {
     "data": {
      "text/html": [
       "<div>\n",
       "<style scoped>\n",
       "    .dataframe tbody tr th:only-of-type {\n",
       "        vertical-align: middle;\n",
       "    }\n",
       "\n",
       "    .dataframe tbody tr th {\n",
       "        vertical-align: top;\n",
       "    }\n",
       "\n",
       "    .dataframe thead th {\n",
       "        text-align: right;\n",
       "    }\n",
       "</style>\n",
       "<table border=\"1\" class=\"dataframe\">\n",
       "  <thead>\n",
       "    <tr style=\"text-align: right;\">\n",
       "      <th></th>\n",
       "      <th>vote96</th>\n",
       "      <th>mhealth_sum</th>\n",
       "      <th>age</th>\n",
       "      <th>educ</th>\n",
       "      <th>black</th>\n",
       "      <th>female</th>\n",
       "      <th>married</th>\n",
       "      <th>inc10</th>\n",
       "    </tr>\n",
       "  </thead>\n",
       "  <tbody>\n",
       "    <tr>\n",
       "      <th>0</th>\n",
       "      <td>1.0</td>\n",
       "      <td>0.0</td>\n",
       "      <td>60.0</td>\n",
       "      <td>12.0</td>\n",
       "      <td>0</td>\n",
       "      <td>0</td>\n",
       "      <td>0.0</td>\n",
       "      <td>4.8149</td>\n",
       "    </tr>\n",
       "    <tr>\n",
       "      <th>1</th>\n",
       "      <td>1.0</td>\n",
       "      <td>NaN</td>\n",
       "      <td>27.0</td>\n",
       "      <td>17.0</td>\n",
       "      <td>0</td>\n",
       "      <td>1</td>\n",
       "      <td>0.0</td>\n",
       "      <td>1.7387</td>\n",
       "    </tr>\n",
       "    <tr>\n",
       "      <th>2</th>\n",
       "      <td>1.0</td>\n",
       "      <td>1.0</td>\n",
       "      <td>36.0</td>\n",
       "      <td>12.0</td>\n",
       "      <td>0</td>\n",
       "      <td>0</td>\n",
       "      <td>1.0</td>\n",
       "      <td>8.8273</td>\n",
       "    </tr>\n",
       "    <tr>\n",
       "      <th>3</th>\n",
       "      <td>0.0</td>\n",
       "      <td>7.0</td>\n",
       "      <td>21.0</td>\n",
       "      <td>13.0</td>\n",
       "      <td>0</td>\n",
       "      <td>0</td>\n",
       "      <td>0.0</td>\n",
       "      <td>1.7387</td>\n",
       "    </tr>\n",
       "    <tr>\n",
       "      <th>4</th>\n",
       "      <td>0.0</td>\n",
       "      <td>NaN</td>\n",
       "      <td>35.0</td>\n",
       "      <td>16.0</td>\n",
       "      <td>0</td>\n",
       "      <td>1</td>\n",
       "      <td>0.0</td>\n",
       "      <td>4.8149</td>\n",
       "    </tr>\n",
       "    <tr>\n",
       "      <th>...</th>\n",
       "      <td>...</td>\n",
       "      <td>...</td>\n",
       "      <td>...</td>\n",
       "      <td>...</td>\n",
       "      <td>...</td>\n",
       "      <td>...</td>\n",
       "      <td>...</td>\n",
       "      <td>...</td>\n",
       "    </tr>\n",
       "    <tr>\n",
       "      <th>2827</th>\n",
       "      <td>1.0</td>\n",
       "      <td>NaN</td>\n",
       "      <td>73.0</td>\n",
       "      <td>14.0</td>\n",
       "      <td>0</td>\n",
       "      <td>1</td>\n",
       "      <td>1.0</td>\n",
       "      <td>2.2737</td>\n",
       "    </tr>\n",
       "    <tr>\n",
       "      <th>2828</th>\n",
       "      <td>1.0</td>\n",
       "      <td>1.0</td>\n",
       "      <td>40.0</td>\n",
       "      <td>12.0</td>\n",
       "      <td>0</td>\n",
       "      <td>1</td>\n",
       "      <td>0.0</td>\n",
       "      <td>1.7387</td>\n",
       "    </tr>\n",
       "    <tr>\n",
       "      <th>2829</th>\n",
       "      <td>1.0</td>\n",
       "      <td>2.0</td>\n",
       "      <td>73.0</td>\n",
       "      <td>6.0</td>\n",
       "      <td>0</td>\n",
       "      <td>0</td>\n",
       "      <td>1.0</td>\n",
       "      <td>2.2737</td>\n",
       "    </tr>\n",
       "    <tr>\n",
       "      <th>2830</th>\n",
       "      <td>1.0</td>\n",
       "      <td>4.0</td>\n",
       "      <td>47.0</td>\n",
       "      <td>12.0</td>\n",
       "      <td>0</td>\n",
       "      <td>0</td>\n",
       "      <td>0.0</td>\n",
       "      <td>3.4774</td>\n",
       "    </tr>\n",
       "    <tr>\n",
       "      <th>2831</th>\n",
       "      <td>NaN</td>\n",
       "      <td>6.0</td>\n",
       "      <td>20.0</td>\n",
       "      <td>10.0</td>\n",
       "      <td>0</td>\n",
       "      <td>0</td>\n",
       "      <td>0.0</td>\n",
       "      <td>4.0124</td>\n",
       "    </tr>\n",
       "  </tbody>\n",
       "</table>\n",
       "<p>2832 rows × 8 columns</p>\n",
       "</div>"
      ],
      "text/plain": [
       "      vote96  mhealth_sum   age  educ  black  female  married   inc10\n",
       "0        1.0          0.0  60.0  12.0      0       0      0.0  4.8149\n",
       "1        1.0          NaN  27.0  17.0      0       1      0.0  1.7387\n",
       "2        1.0          1.0  36.0  12.0      0       0      1.0  8.8273\n",
       "3        0.0          7.0  21.0  13.0      0       0      0.0  1.7387\n",
       "4        0.0          NaN  35.0  16.0      0       1      0.0  4.8149\n",
       "...      ...          ...   ...   ...    ...     ...      ...     ...\n",
       "2827     1.0          NaN  73.0  14.0      0       1      1.0  2.2737\n",
       "2828     1.0          1.0  40.0  12.0      0       1      0.0  1.7387\n",
       "2829     1.0          2.0  73.0   6.0      0       0      1.0  2.2737\n",
       "2830     1.0          4.0  47.0  12.0      0       0      0.0  3.4774\n",
       "2831     NaN          6.0  20.0  10.0      0       0      0.0  4.0124\n",
       "\n",
       "[2832 rows x 8 columns]"
      ]
     },
     "execution_count": 355,
     "metadata": {},
     "output_type": "execute_result"
    }
   ],
   "source": [
    "#load the dataset into a DataFrame\n",
    "df_wb=pd.read_csv('mental_health.csv')\n",
    "df_wb"
   ]
  },
  {
   "cell_type": "markdown",
   "metadata": {},
   "source": [
    "Then, cleaning the data, drop NAN and aggregate all features:"
   ]
  },
  {
   "cell_type": "code",
   "execution_count": 369,
   "metadata": {},
   "outputs": [],
   "source": [
    "#drop NaN data\n",
    "df_wb.dropna(inplace=True)"
   ]
  },
  {
   "cell_type": "code",
   "execution_count": 370,
   "metadata": {},
   "outputs": [],
   "source": [
    "#aggregate all predictors\n",
    "df_wb['feature']=[np.stack((item[1]['mhealth_sum'],item[1]['age'],item[1]['educ'],item[1]['black'],item[1]['female'],item[1]['married'],item[1]['inc10']))for item in df_wb.iterrows()]"
   ]
  },
  {
   "cell_type": "code",
   "execution_count": 371,
   "metadata": {},
   "outputs": [
    {
     "data": {
      "text/html": [
       "<div>\n",
       "<style scoped>\n",
       "    .dataframe tbody tr th:only-of-type {\n",
       "        vertical-align: middle;\n",
       "    }\n",
       "\n",
       "    .dataframe tbody tr th {\n",
       "        vertical-align: top;\n",
       "    }\n",
       "\n",
       "    .dataframe thead th {\n",
       "        text-align: right;\n",
       "    }\n",
       "</style>\n",
       "<table border=\"1\" class=\"dataframe\">\n",
       "  <thead>\n",
       "    <tr style=\"text-align: right;\">\n",
       "      <th></th>\n",
       "      <th>vote96</th>\n",
       "      <th>mhealth_sum</th>\n",
       "      <th>age</th>\n",
       "      <th>educ</th>\n",
       "      <th>black</th>\n",
       "      <th>female</th>\n",
       "      <th>married</th>\n",
       "      <th>inc10</th>\n",
       "      <th>feature</th>\n",
       "    </tr>\n",
       "  </thead>\n",
       "  <tbody>\n",
       "    <tr>\n",
       "      <th>0</th>\n",
       "      <td>1.0</td>\n",
       "      <td>0.0</td>\n",
       "      <td>60.0</td>\n",
       "      <td>12.0</td>\n",
       "      <td>0</td>\n",
       "      <td>0</td>\n",
       "      <td>0.0</td>\n",
       "      <td>4.8149</td>\n",
       "      <td>[0.0, 60.0, 12.0, 0.0, 0.0, 0.0, 4.81489992141...</td>\n",
       "    </tr>\n",
       "    <tr>\n",
       "      <th>2</th>\n",
       "      <td>1.0</td>\n",
       "      <td>1.0</td>\n",
       "      <td>36.0</td>\n",
       "      <td>12.0</td>\n",
       "      <td>0</td>\n",
       "      <td>0</td>\n",
       "      <td>1.0</td>\n",
       "      <td>8.8273</td>\n",
       "      <td>[1.0, 36.0, 12.0, 0.0, 0.0, 1.0, 8.82730007171...</td>\n",
       "    </tr>\n",
       "    <tr>\n",
       "      <th>3</th>\n",
       "      <td>0.0</td>\n",
       "      <td>7.0</td>\n",
       "      <td>21.0</td>\n",
       "      <td>13.0</td>\n",
       "      <td>0</td>\n",
       "      <td>0</td>\n",
       "      <td>0.0</td>\n",
       "      <td>1.7387</td>\n",
       "      <td>[7.0, 21.0, 13.0, 0.0, 0.0, 0.0, 1.73870003223...</td>\n",
       "    </tr>\n",
       "    <tr>\n",
       "      <th>7</th>\n",
       "      <td>0.0</td>\n",
       "      <td>6.0</td>\n",
       "      <td>29.0</td>\n",
       "      <td>13.0</td>\n",
       "      <td>0</td>\n",
       "      <td>0</td>\n",
       "      <td>0.0</td>\n",
       "      <td>10.6998</td>\n",
       "      <td>[6.0, 29.0, 13.0, 0.0, 0.0, 0.0, 10.6997995376...</td>\n",
       "    </tr>\n",
       "    <tr>\n",
       "      <th>11</th>\n",
       "      <td>1.0</td>\n",
       "      <td>1.0</td>\n",
       "      <td>41.0</td>\n",
       "      <td>15.0</td>\n",
       "      <td>1</td>\n",
       "      <td>1</td>\n",
       "      <td>1.0</td>\n",
       "      <td>8.8273</td>\n",
       "      <td>[1.0, 41.0, 15.0, 1.0, 1.0, 1.0, 8.82730007171...</td>\n",
       "    </tr>\n",
       "    <tr>\n",
       "      <th>...</th>\n",
       "      <td>...</td>\n",
       "      <td>...</td>\n",
       "      <td>...</td>\n",
       "      <td>...</td>\n",
       "      <td>...</td>\n",
       "      <td>...</td>\n",
       "      <td>...</td>\n",
       "      <td>...</td>\n",
       "      <td>...</td>\n",
       "    </tr>\n",
       "    <tr>\n",
       "      <th>2822</th>\n",
       "      <td>1.0</td>\n",
       "      <td>2.0</td>\n",
       "      <td>37.0</td>\n",
       "      <td>14.0</td>\n",
       "      <td>0</td>\n",
       "      <td>0</td>\n",
       "      <td>1.0</td>\n",
       "      <td>5.8849</td>\n",
       "      <td>[2.0, 37.0, 14.0, 0.0, 0.0, 1.0, 5.88490009307...</td>\n",
       "    </tr>\n",
       "    <tr>\n",
       "      <th>2823</th>\n",
       "      <td>1.0</td>\n",
       "      <td>2.0</td>\n",
       "      <td>30.0</td>\n",
       "      <td>12.0</td>\n",
       "      <td>0</td>\n",
       "      <td>1</td>\n",
       "      <td>1.0</td>\n",
       "      <td>3.4774</td>\n",
       "      <td>[2.0, 30.0, 12.0, 0.0, 1.0, 1.0, 3.47740006446...</td>\n",
       "    </tr>\n",
       "    <tr>\n",
       "      <th>2828</th>\n",
       "      <td>1.0</td>\n",
       "      <td>1.0</td>\n",
       "      <td>40.0</td>\n",
       "      <td>12.0</td>\n",
       "      <td>0</td>\n",
       "      <td>1</td>\n",
       "      <td>0.0</td>\n",
       "      <td>1.7387</td>\n",
       "      <td>[1.0, 40.0, 12.0, 0.0, 1.0, 0.0, 1.73870003223...</td>\n",
       "    </tr>\n",
       "    <tr>\n",
       "      <th>2829</th>\n",
       "      <td>1.0</td>\n",
       "      <td>2.0</td>\n",
       "      <td>73.0</td>\n",
       "      <td>6.0</td>\n",
       "      <td>0</td>\n",
       "      <td>0</td>\n",
       "      <td>1.0</td>\n",
       "      <td>2.2737</td>\n",
       "      <td>[2.0, 73.0, 6.0, 0.0, 0.0, 1.0, 2.273699998855...</td>\n",
       "    </tr>\n",
       "    <tr>\n",
       "      <th>2830</th>\n",
       "      <td>1.0</td>\n",
       "      <td>4.0</td>\n",
       "      <td>47.0</td>\n",
       "      <td>12.0</td>\n",
       "      <td>0</td>\n",
       "      <td>0</td>\n",
       "      <td>0.0</td>\n",
       "      <td>3.4774</td>\n",
       "      <td>[4.0, 47.0, 12.0, 0.0, 0.0, 0.0, 3.47740006446...</td>\n",
       "    </tr>\n",
       "  </tbody>\n",
       "</table>\n",
       "<p>1165 rows × 9 columns</p>\n",
       "</div>"
      ],
      "text/plain": [
       "      vote96  mhealth_sum   age  educ  black  female  married    inc10  \\\n",
       "0        1.0          0.0  60.0  12.0      0       0      0.0   4.8149   \n",
       "2        1.0          1.0  36.0  12.0      0       0      1.0   8.8273   \n",
       "3        0.0          7.0  21.0  13.0      0       0      0.0   1.7387   \n",
       "7        0.0          6.0  29.0  13.0      0       0      0.0  10.6998   \n",
       "11       1.0          1.0  41.0  15.0      1       1      1.0   8.8273   \n",
       "...      ...          ...   ...   ...    ...     ...      ...      ...   \n",
       "2822     1.0          2.0  37.0  14.0      0       0      1.0   5.8849   \n",
       "2823     1.0          2.0  30.0  12.0      0       1      1.0   3.4774   \n",
       "2828     1.0          1.0  40.0  12.0      0       1      0.0   1.7387   \n",
       "2829     1.0          2.0  73.0   6.0      0       0      1.0   2.2737   \n",
       "2830     1.0          4.0  47.0  12.0      0       0      0.0   3.4774   \n",
       "\n",
       "                                                feature  \n",
       "0     [0.0, 60.0, 12.0, 0.0, 0.0, 0.0, 4.81489992141...  \n",
       "2     [1.0, 36.0, 12.0, 0.0, 0.0, 1.0, 8.82730007171...  \n",
       "3     [7.0, 21.0, 13.0, 0.0, 0.0, 0.0, 1.73870003223...  \n",
       "7     [6.0, 29.0, 13.0, 0.0, 0.0, 0.0, 10.6997995376...  \n",
       "11    [1.0, 41.0, 15.0, 1.0, 1.0, 1.0, 8.82730007171...  \n",
       "...                                                 ...  \n",
       "2822  [2.0, 37.0, 14.0, 0.0, 0.0, 1.0, 5.88490009307...  \n",
       "2823  [2.0, 30.0, 12.0, 0.0, 1.0, 1.0, 3.47740006446...  \n",
       "2828  [1.0, 40.0, 12.0, 0.0, 1.0, 0.0, 1.73870003223...  \n",
       "2829  [2.0, 73.0, 6.0, 0.0, 0.0, 1.0, 2.273699998855...  \n",
       "2830  [4.0, 47.0, 12.0, 0.0, 0.0, 0.0, 3.47740006446...  \n",
       "\n",
       "[1165 rows x 9 columns]"
      ]
     },
     "execution_count": 371,
     "metadata": {},
     "output_type": "execute_result"
    }
   ],
   "source": [
    "df_wb"
   ]
  },
  {
   "cell_type": "markdown",
   "metadata": {},
   "source": [
    "Split the dataset into Training and Test (70/30):"
   ]
  },
  {
   "cell_type": "code",
   "execution_count": 372,
   "metadata": {},
   "outputs": [],
   "source": [
    "#split the dataset\n",
    "df_train,df_test=split_data(df_wb,0.7)"
   ]
  },
  {
   "cell_type": "markdown",
   "metadata": {},
   "source": [
    "Training over all the possible models (Logistic Regression, LDA, QDA, Naive Bayes, KNN) and calculate the error rate, draw ROC curves:"
   ]
  },
  {
   "cell_type": "code",
   "execution_count": 481,
   "metadata": {},
   "outputs": [],
   "source": [
    "#create lists to save all error rate results\n",
    "ER_all=[]\n",
    "AUC_all=[]\n",
    "method_label=[]"
   ]
  },
  {
   "cell_type": "markdown",
   "metadata": {},
   "source": [
    "Revise the error rate/AUC calculation function and define ROC plot function:"
   ]
  },
  {
   "cell_type": "code",
   "execution_count": 431,
   "metadata": {},
   "outputs": [],
   "source": [
    "#function to calculate error_rate\n",
    "def calculate_error_rate(clf,df_feature,df_category):\n",
    "    predictions=clf.predict(np.stack(df_feature, axis=0))\n",
    "    error_rate=1 -  sklearn.metrics.accuracy_score(df_category, predictions)\n",
    "    return error_rate\n",
    "\n",
    "def calculate_auc(clf,df_feature,df_category):\n",
    "    predictions=clf.predict(np.stack(df_feature, axis=0))\n",
    "    auc_score=sklearn.metrics.roc_auc_score(df_category, predictions)\n",
    "    return auc_score"
   ]
  },
  {
   "cell_type": "code",
   "execution_count": 401,
   "metadata": {},
   "outputs": [],
   "source": [
    "#function to plot ROC\n",
    "def plot_ROC_curve(model,data_feature,data_category,method_des):\n",
    "    clf=model\n",
    "    classes = clf.classes_\n",
    "    try:\n",
    "        probs = clf.predict_proba(np.stack(data_feature, axis=0))\n",
    "    except AttributeError:\n",
    "        print(\"The {} classifier does not apear to support prediction probabilties, so an ROC curve can't be created. You can try adding `probability = True` to the model specification or use a different model.\".format(type(clf)))\n",
    "        return\n",
    "    predictions = clf.predict(np.stack(data_feature, axis=0))\n",
    "\n",
    "    #setup axis for plotting\n",
    "    fig, ax = plt.subplots(figsize = (5,5))\n",
    "\n",
    "    #We can return the AUC values, in case they are useful\n",
    "    aucVals = []\n",
    "    for classIndex, className in enumerate(classes):        #Setup binary classes\n",
    "        truths = [1 if c == className else 0 for c in data_category]\n",
    "        predict = [1 if c == className else 0 for c in predictions]\n",
    "        scores = probs[:, classIndex]\n",
    "\n",
    "        #Get the ROC curve\n",
    "        fpr, tpr, thresholds = sklearn.metrics.roc_curve(truths, scores)\n",
    "        auc = sklearn.metrics.auc(fpr, tpr)\n",
    "        aucVals.append(auc)\n",
    "\n",
    "        #Plot the class's line\n",
    "        ax.plot(fpr, tpr, label = \"{} (AUC ${:.3f}$)\".format(str(className).split(':')[0], auc))\n",
    "\n",
    "    #Make the plot nice, then display it\n",
    "    ax.set_title('Receiver Operating Characteristics')\n",
    "    plt.plot([0,1], [0,1], color = 'k', linestyle='--')\n",
    "    ax.set_xlabel('False Positive Rate')\n",
    "    ax.set_ylabel('True Positive Rate')\n",
    "    ax.legend(loc = 'lower right')\n",
    "    plt.show()\n",
    "    #plt.close()"
   ]
  },
  {
   "cell_type": "markdown",
   "metadata": {},
   "source": [
    "Train the LDA model first, calculate ROC, error rate and plot ROC curve:"
   ]
  },
  {
   "cell_type": "code",
   "execution_count": 482,
   "metadata": {},
   "outputs": [
    {
     "name": "stdout",
     "output_type": "stream",
     "text": [
      "error rate: 0.27\n",
      "AUC: 0.64\n"
     ]
    }
   ],
   "source": [
    "clf_lda=LDA()\n",
    "clf_lda.fit(np.stack(df_train['feature'], axis=0), df_train['vote96'])\n",
    "ER_lda=calculate_error_rate(clf_lda,df_test['feature'],df_test['vote96'])\n",
    "AUC_lda=calculate_auc(clf_lda,df_test['feature'],df_test['vote96'])\n",
    "print('error rate:',round(ER_lda,2))\n",
    "print('AUC:',round(AUC_lda,2))"
   ]
  },
  {
   "cell_type": "code",
   "execution_count": 508,
   "metadata": {},
   "outputs": [],
   "source": [
    "# save the error rate results\n",
    "ER_all.append(ER_lda)\n",
    "AUC_all.append(AUC_lda)\n",
    "method_label.append('LDA')"
   ]
  },
  {
   "cell_type": "code",
   "execution_count": 509,
   "metadata": {},
   "outputs": [
    {
     "data": {
      "image/png": "[encoded data removed]",
      "text/plain": [
       "<Figure size 360x360 with 1 Axes>"
      ]
     },
     "metadata": {
      "needs_background": "light"
     },
     "output_type": "display_data"
    }
   ],
   "source": [
    "#plot AUC curve\n",
    "plot_ROC_curve(clf_lda,df_test['feature'],df_test['vote96'],'LDA')"
   ]
  },
  {
   "cell_type": "markdown",
   "metadata": {},
   "source": [
    "Train all the other models and save the evaluation results, show the results all together in the end:"
   ]
  },
  {
   "cell_type": "code",
   "execution_count": 484,
   "metadata": {},
   "outputs": [
    {
     "name": "stderr",
     "output_type": "stream",
     "text": [
      "C:\\Users\\zhuangchu\\Anaconda3\\lib\\site-packages\\sklearn\\linear_model\\logistic.py:432: FutureWarning: Default solver will be changed to 'lbfgs' in 0.22. Specify a solver to silence this warning.\n",
      "  FutureWarning)\n"
     ]
    }
   ],
   "source": [
    "#fit in logistic regression\n",
    "clf_log=sklearn.linear_model.LogisticRegression()\n",
    "clf_log.fit(np.stack(df_train['feature'], axis=0), df_train['vote96'])\n",
    "ER_lg=calculate_error_rate(clf_log,df_test['feature'],df_test['vote96'])\n",
    "AUC_lg=calculate_auc(clf_log,df_test['feature'],df_test['vote96'])\n",
    "\n",
    "#save the evluations\n",
    "ER_all.append(ER_lg)\n",
    "AUC_all.append(AUC_lg)\n",
    "method_label.append('Logs Reg')"
   ]
  },
  {
   "cell_type": "code",
   "execution_count": 485,
   "metadata": {},
   "outputs": [],
   "source": [
    "#fit in QDA\n",
    "clf_qda=QDA()\n",
    "clf_qda.fit(np.stack(df_train['feature'], axis=0), df_train['vote96'])\n",
    "ER_qda=calculate_error_rate(clf_qda,df_test['feature'],df_test['vote96'])\n",
    "AUC_qda=calculate_auc(clf_qda,df_test['feature'],df_test['vote96'])\n",
    "\n",
    "#save the evluations\n",
    "ER_all.append(ER_qda)\n",
    "AUC_all.append(AUC_qda)\n",
    "method_label.append('QDA')"
   ]
  },
  {
   "cell_type": "code",
   "execution_count": 486,
   "metadata": {},
   "outputs": [],
   "source": [
    "#fit in Naive Bayes\n",
    "from sklearn.naive_bayes import GaussianNB\n",
    "clf_nb=GaussianNB()\n",
    "clf_nb.fit(np.stack(df_train['feature'], axis=0), df_train['vote96'])\n",
    "ER_nb=calculate_error_rate(clf_nb,df_test['feature'],df_test['vote96'])\n",
    "AUC_nb=calculate_auc(clf_nb,df_test['feature'],df_test['vote96'])\n",
    "\n",
    "#save the evluations\n",
    "ER_all.append(ER_nb)\n",
    "AUC_all.append(AUC_nb)\n",
    "method_label.append('Naive Bayes')"
   ]
  },
  {
   "cell_type": "code",
   "execution_count": 487,
   "metadata": {},
   "outputs": [],
   "source": [
    "#fit in kNN, 1 neighbour\n",
    "from sklearn.neighbors import KNeighborsClassifier\n",
    "clf_knn1=KNeighborsClassifier(1, weights='distance')\n",
    "clf_knn1.fit(np.stack(df_train['feature'], axis=0), df_train['vote96'])\n",
    "ER_knn1=calculate_error_rate(clf_knn1,df_test['feature'],df_test['vote96'])\n",
    "AUC_knn1=calculate_auc(clf_knn1,df_test['feature'],df_test['vote96'])\n",
    "\n",
    "#save the evluations\n",
    "ER_all.append(ER_knn1)\n",
    "AUC_all.append(AUC_knn1)\n",
    "method_label.append('kNN1')"
   ]
  },
  {
   "cell_type": "code",
   "execution_count": 488,
   "metadata": {},
   "outputs": [],
   "source": [
    "#fit in kNN, 2 neighbour\n",
    "clf_knn2=KNeighborsClassifier(2, weights='distance')\n",
    "clf_knn2.fit(np.stack(df_train['feature'], axis=0), df_train['vote96'])\n",
    "ER_knn2=calculate_error_rate(clf_knn2,df_test['feature'],df_test['vote96'])\n",
    "AUC_knn2=calculate_auc(clf_knn2,df_test['feature'],df_test['vote96'])\n",
    "\n",
    "#save the evluations\n",
    "ER_all.append(ER_knn2)\n",
    "AUC_all.append(AUC_knn2)\n",
    "method_label.append('kNN2')"
   ]
  },
  {
   "cell_type": "code",
   "execution_count": 489,
   "metadata": {},
   "outputs": [],
   "source": [
    "#fit in kNN, 3 neighbour\n",
    "clf_knn3=KNeighborsClassifier(3, weights='distance')\n",
    "clf_knn3.fit(np.stack(df_train['feature'], axis=0), df_train['vote96'])\n",
    "ER_knn3=calculate_error_rate(clf_knn3,df_test['feature'],df_test['vote96'])\n",
    "AUC_knn3=calculate_auc(clf_knn3,df_test['feature'],df_test['vote96'])\n",
    "\n",
    "#save the evluations\n",
    "ER_all.append(ER_knn3)\n",
    "AUC_all.append(AUC_knn3)\n",
    "method_label.append('kNN3')"
   ]
  },
  {
   "cell_type": "code",
   "execution_count": 490,
   "metadata": {},
   "outputs": [],
   "source": [
    "#fit in kNN, 4 neighbour\n",
    "clf_knn4=KNeighborsClassifier(4, weights='distance')\n",
    "clf_knn4.fit(np.stack(df_train['feature'], axis=0), df_train['vote96'])\n",
    "ER_knn4=calculate_error_rate(clf_knn4,df_test['feature'],df_test['vote96'])\n",
    "AUC_knn4=calculate_auc(clf_knn4,df_test['feature'],df_test['vote96'])\n",
    "\n",
    "#save the evluations\n",
    "ER_all.append(ER_knn4)\n",
    "AUC_all.append(AUC_knn4)\n",
    "method_label.append('kNN4')"
   ]
  },
  {
   "cell_type": "code",
   "execution_count": 491,
   "metadata": {},
   "outputs": [],
   "source": [
    "#fit in kNN, 5 neighbour\n",
    "from sklearn.neighbors import KNeighborsClassifier\n",
    "clf_knn5=KNeighborsClassifier(5, weights='distance')\n",
    "clf_knn5.fit(np.stack(df_train['feature'], axis=0), df_train['vote96'])\n",
    "ER_knn5=calculate_error_rate(clf_knn5,df_test['feature'],df_test['vote96'])\n",
    "AUC_knn5=calculate_auc(clf_knn5,df_test['feature'],df_test['vote96'])\n",
    "\n",
    "#save the evluations\n",
    "ER_all.append(ER_knn5)\n",
    "AUC_all.append(AUC_knn5)\n",
    "method_label.append('kNN5')"
   ]
  },
  {
   "cell_type": "code",
   "execution_count": 492,
   "metadata": {},
   "outputs": [],
   "source": [
    "#fit in kNN, 6 neighbour\n",
    "from sklearn.neighbors import KNeighborsClassifier\n",
    "clf_knn6=KNeighborsClassifier(6, weights='distance')\n",
    "clf_knn6.fit(np.stack(df_train['feature'], axis=0), df_train['vote96'])\n",
    "ER_knn6=calculate_error_rate(clf_knn6,df_test['feature'],df_test['vote96'])\n",
    "AUC_knn6=calculate_auc(clf_knn6,df_test['feature'],df_test['vote96'])\n",
    "\n",
    "#save the evluations\n",
    "ER_all.append(ER_knn6)\n",
    "AUC_all.append(AUC_knn6)\n",
    "method_label.append('kNN6')"
   ]
  },
  {
   "cell_type": "code",
   "execution_count": 493,
   "metadata": {},
   "outputs": [],
   "source": [
    "#fit in kNN, 7 neighbour\n",
    "from sklearn.neighbors import KNeighborsClassifier\n",
    "clf_knn7=KNeighborsClassifier(7, weights='distance')\n",
    "clf_knn7.fit(np.stack(df_train['feature'], axis=0), df_train['vote96'])\n",
    "ER_knn7=calculate_error_rate(clf_knn7,df_test['feature'],df_test['vote96'])\n",
    "AUC_knn7=calculate_auc(clf_knn7,df_test['feature'],df_test['vote96'])\n",
    "\n",
    "#save the evluations\n",
    "ER_all.append(ER_knn7)\n",
    "AUC_all.append(AUC_knn7)\n",
    "method_label.append('kNN7')"
   ]
  },
  {
   "cell_type": "code",
   "execution_count": 494,
   "metadata": {},
   "outputs": [],
   "source": [
    "#fit in kNN, 8 neighbour\n",
    "from sklearn.neighbors import KNeighborsClassifier\n",
    "clf_knn8=KNeighborsClassifier(8, weights='distance')\n",
    "clf_knn8.fit(np.stack(df_train['feature'], axis=0), df_train['vote96'])\n",
    "ER_knn8=calculate_error_rate(clf_knn8,df_test['feature'],df_test['vote96'])\n",
    "AUC_knn8=calculate_auc(clf_knn8,df_test['feature'],df_test['vote96'])\n",
    "\n",
    "#save the evluations\n",
    "ER_all.append(ER_knn8)\n",
    "AUC_all.append(AUC_knn8)\n",
    "method_label.append('kNN8')"
   ]
  },
  {
   "cell_type": "code",
   "execution_count": 495,
   "metadata": {},
   "outputs": [],
   "source": [
    "#fit in kNN, 9 neighbour\n",
    "from sklearn.neighbors import KNeighborsClassifier\n",
    "clf_knn9=KNeighborsClassifier(9, weights='distance')\n",
    "clf_knn9.fit(np.stack(df_train['feature'], axis=0), df_train['vote96'])\n",
    "ER_knn9=calculate_error_rate(clf_knn9,df_test['feature'],df_test['vote96'])\n",
    "AUC_knn9=calculate_auc(clf_knn9,df_test['feature'],df_test['vote96'])\n",
    "\n",
    "#save the evluations\n",
    "ER_all.append(ER_knn9)\n",
    "AUC_all.append(AUC_knn9)\n",
    "method_label.append('kNN9')"
   ]
  },
  {
   "cell_type": "code",
   "execution_count": 496,
   "metadata": {},
   "outputs": [],
   "source": [
    "#fit in kNN, 3 neighbour\n",
    "from sklearn.neighbors import KNeighborsClassifier\n",
    "clf_knn10=KNeighborsClassifier(10, weights='distance')\n",
    "clf_knn10.fit(np.stack(df_train['feature'], axis=0), df_train['vote96'])\n",
    "ER_knn10=calculate_error_rate(clf_knn10,df_test['feature'],df_test['vote96'])\n",
    "AUC_knn10=calculate_auc(clf_knn10,df_test['feature'],df_test['vote96'])\n",
    "\n",
    "#save the evluations\n",
    "ER_all.append(ER_knn10)\n",
    "AUC_all.append(AUC_knn10)\n",
    "method_label.append('kNN10')"
   ]
  },
  {
   "cell_type": "markdown",
   "metadata": {},
   "source": [
    "Plot all the error rate scores across all 14 models (LDA, QDA, Logistic Regression, Naive Bayes, kNN):"
   ]
  },
  {
   "cell_type": "code",
   "execution_count": 505,
   "metadata": {
    "scrolled": true
   },
   "outputs": [
    {
     "data": {
      "image/png": "[encoded data removed]",
      "text/plain": [
       "<Figure size 576x576 with 1 Axes>"
      ]
     },
     "metadata": {
      "needs_background": "light"
     },
     "output_type": "display_data"
    }
   ],
   "source": [
    "#Plot bar graph, error rates of all 14 models:\n",
    "#method_label\n",
    "method_num=len(method_label)\n",
    "index=np.arange(method_num)\n",
    "width=0.3\n",
    "\n",
    "mean1=ER_all\n",
    "plt.figure(figsize=(8,8))\n",
    "plt.barh(index,mean1,width,color='SkyBlue') \n",
    "#plt.bar(index+width,mean2,width,yerr=std2,error_kw = {'ecolor' : '0.2', 'capsize' :6},color='IndianRed',label='QDA')\n",
    "\n",
    "plt.xlabel('Models')\n",
    "plt.ylabel('Error Rate')\n",
    "plt.yticks(index,method_label,FontSize=12)\n",
    "plt.title('Error Rates of all Models');"
   ]
  },
  {
   "cell_type": "markdown",
   "metadata": {},
   "source": [
    "Show the error rate scores in table:"
   ]
  },
  {
   "cell_type": "code",
   "execution_count": 507,
   "metadata": {},
   "outputs": [
    {
     "data": {
      "text/html": [
       "<div>\n",
       "<style scoped>\n",
       "    .dataframe tbody tr th:only-of-type {\n",
       "        vertical-align: middle;\n",
       "    }\n",
       "\n",
       "    .dataframe tbody tr th {\n",
       "        vertical-align: top;\n",
       "    }\n",
       "\n",
       "    .dataframe thead th {\n",
       "        text-align: right;\n",
       "    }\n",
       "</style>\n",
       "<table border=\"1\" class=\"dataframe\">\n",
       "  <thead>\n",
       "    <tr style=\"text-align: right;\">\n",
       "      <th></th>\n",
       "      <th>error_rate</th>\n",
       "    </tr>\n",
       "  </thead>\n",
       "  <tbody>\n",
       "    <tr>\n",
       "      <th>LDA</th>\n",
       "      <td>0.271429</td>\n",
       "    </tr>\n",
       "    <tr>\n",
       "      <th>Logs Reg</th>\n",
       "      <td>0.271429</td>\n",
       "    </tr>\n",
       "    <tr>\n",
       "      <th>QDA</th>\n",
       "      <td>0.288571</td>\n",
       "    </tr>\n",
       "    <tr>\n",
       "      <th>Naive Bayes</th>\n",
       "      <td>0.294286</td>\n",
       "    </tr>\n",
       "    <tr>\n",
       "      <th>kNN1</th>\n",
       "      <td>0.325714</td>\n",
       "    </tr>\n",
       "    <tr>\n",
       "      <th>kNN2</th>\n",
       "      <td>0.325714</td>\n",
       "    </tr>\n",
       "    <tr>\n",
       "      <th>kNN3</th>\n",
       "      <td>0.322857</td>\n",
       "    </tr>\n",
       "    <tr>\n",
       "      <th>kNN4</th>\n",
       "      <td>0.308571</td>\n",
       "    </tr>\n",
       "    <tr>\n",
       "      <th>kNN5</th>\n",
       "      <td>0.320000</td>\n",
       "    </tr>\n",
       "    <tr>\n",
       "      <th>kNN6</th>\n",
       "      <td>0.294286</td>\n",
       "    </tr>\n",
       "    <tr>\n",
       "      <th>kNN7</th>\n",
       "      <td>0.305714</td>\n",
       "    </tr>\n",
       "    <tr>\n",
       "      <th>kNN8</th>\n",
       "      <td>0.288571</td>\n",
       "    </tr>\n",
       "    <tr>\n",
       "      <th>kNN9</th>\n",
       "      <td>0.285714</td>\n",
       "    </tr>\n",
       "    <tr>\n",
       "      <th>kNN10</th>\n",
       "      <td>0.288571</td>\n",
       "    </tr>\n",
       "  </tbody>\n",
       "</table>\n",
       "</div>"
      ],
      "text/plain": [
       "             error_rate\n",
       "LDA            0.271429\n",
       "Logs Reg       0.271429\n",
       "QDA            0.288571\n",
       "Naive Bayes    0.294286\n",
       "kNN1           0.325714\n",
       "kNN2           0.325714\n",
       "kNN3           0.322857\n",
       "kNN4           0.308571\n",
       "kNN5           0.320000\n",
       "kNN6           0.294286\n",
       "kNN7           0.305714\n",
       "kNN8           0.288571\n",
       "kNN9           0.285714\n",
       "kNN10          0.288571"
      ]
     },
     "execution_count": 507,
     "metadata": {},
     "output_type": "execute_result"
    }
   ],
   "source": [
    "ER_all_df=pd.DataFrame({'error_rate':ER_all},index=method_label)\n",
    "ER_all_df"
   ]
  },
  {
   "cell_type": "markdown",
   "metadata": {},
   "source": [
    "## Conclusion: \n",
    "\n",
    "Combined with the graph and table below and above, overall, LDA has the best performance, lowest error rate (0.27)and highest AUC score(0.762).Accordingly, LDA has the best performance.\n",
    "\n",
    "Logstic Regression and kNN8~10 also performan well, relative lower error rate and high AUC scores.kNN1 is the worst model, highest error rate (0.325) and lowest AUC score (0.625).Overall, the difference among models is not significant."
   ]
  },
  {
   "cell_type": "markdown",
   "metadata": {},
   "source": [
    "Plot ROC curves for all models: "
   ]
  },
  {
   "cell_type": "code",
   "execution_count": 467,
   "metadata": {},
   "outputs": [
    {
     "data": {
      "image/png": "[encoded data removed]",
      "text/plain": [
       "<Figure size 720x720 with 4 Axes>"
      ]
     },
     "metadata": {
      "needs_background": "light"
     },
     "output_type": "display_data"
    }
   ],
   "source": [
    "plt.figure(figsize=(10,10))\n",
    "plot_ROC_curve_sub(clf_lda,df_test['feature'],df_test['vote96'],'LDA',221)\n",
    "plot_ROC_curve_sub(clf_log,df_test['feature'],df_test['vote96'],'Logs Reg',222)\n",
    "plot_ROC_curve_sub(clf_qda,df_test['feature'],df_test['vote96'],'QDA',223)\n",
    "plot_ROC_curve_sub(clf_nb,df_test['feature'],df_test['vote96'],'Naive Bayes',224)"
   ]
  },
  {
   "cell_type": "code",
   "execution_count": 502,
   "metadata": {},
   "outputs": [
    {
     "data": {
      "image/png": "[encoded data removed]",
      "text/plain": [
       "<Figure size 720x720 with 4 Axes>"
      ]
     },
     "metadata": {
      "needs_background": "light"
     },
     "output_type": "display_data"
    }
   ],
   "source": [
    "plt.figure(figsize=(10,10))\n",
    "plot_ROC_curve_sub(clf_knn1,df_test['feature'],df_test['vote96'],'kNN1',221)\n",
    "plot_ROC_curve_sub(clf_knn2,df_test['feature'],df_test['vote96'],'kNN2',222)\n",
    "plot_ROC_curve_sub(clf_knn3,df_test['feature'],df_test['vote96'],'kNN3',223)\n",
    "plot_ROC_curve_sub(clf_knn4,df_test['feature'],df_test['vote96'],'kNN4',224)"
   ]
  },
  {
   "cell_type": "code",
   "execution_count": 503,
   "metadata": {},
   "outputs": [
    {
     "data": {
      "image/png": "[encoded data removed]",
      "text/plain": [
       "<Figure size 720x720 with 4 Axes>"
      ]
     },
     "metadata": {
      "needs_background": "light"
     },
     "output_type": "display_data"
    }
   ],
   "source": [
    "plt.figure(figsize=(10,10))\n",
    "plot_ROC_curve_sub(clf_knn5,df_test['feature'],df_test['vote96'],'kNN5',221)\n",
    "plot_ROC_curve_sub(clf_knn6,df_test['feature'],df_test['vote96'],'kNN6',222)\n",
    "plot_ROC_curve_sub(clf_knn7,df_test['feature'],df_test['vote96'],'kNN7',223)\n",
    "plot_ROC_curve_sub(clf_knn8,df_test['feature'],df_test['vote96'],'kNN8',224)"
   ]
  },
  {
   "cell_type": "code",
   "execution_count": 504,
   "metadata": {},
   "outputs": [
    {
     "data": {
      "image/png": "[encoded data removed]",
      "text/plain": [
       "<Figure size 720x720 with 2 Axes>"
      ]
     },
     "metadata": {
      "needs_background": "light"
     },
     "output_type": "display_data"
    }
   ],
   "source": [
    "plt.figure(figsize=(10,10))\n",
    "plot_ROC_curve_sub(clf_knn9,df_test['feature'],df_test['vote96'],'kNN9',221)\n",
    "plot_ROC_curve_sub(clf_knn10,df_test['feature'],df_test['vote96'],'kNN10',222)"
   ]
  },
  {
   "cell_type": "code",
   "execution_count": 424,
   "metadata": {},
   "outputs": [],
   "source": [
    "#function to plot ROC of subplots\n",
    "def plot_ROC_curve_sub(model,data_feature,data_category,method_des,loc):\n",
    "    clf=model\n",
    "    classes = clf.classes_\n",
    "    try:\n",
    "        probs = clf.predict_proba(np.stack(data_feature, axis=0))\n",
    "    except AttributeError:\n",
    "        print(\"The {} classifier does not apear to support prediction probabilties, so an ROC curve can't be created. You can try adding `probability = True` to the model specification or use a different model.\".format(type(clf)))\n",
    "        return\n",
    "    predictions = clf.predict(np.stack(data_feature, axis=0))\n",
    "\n",
    "    #setup axis for plotting\n",
    "    #fig, ax = plt.subplot(221)\n",
    "    plt.subplot(loc)\n",
    "    \n",
    "    #We can return the AUC values, in case they are useful\n",
    "    aucVals = []\n",
    "    for classIndex, className in enumerate(classes):        #Setup binary classes\n",
    "        truths = [1 if c == className else 0 for c in data_category]\n",
    "        predict = [1 if c == className else 0 for c in predictions]\n",
    "        scores = probs[:, classIndex]\n",
    "\n",
    "        #Get the ROC curve\n",
    "        fpr, tpr, thresholds = sklearn.metrics.roc_curve(truths, scores)\n",
    "        auc = sklearn.metrics.auc(fpr, tpr)\n",
    "        aucVals.append(auc)\n",
    "\n",
    "        #Plot the class's line\n",
    "        plt.plot(fpr, tpr, label = \"{} (AUC ${:.3f}$)\".format(str(className).split(':')[0], auc))\n",
    "\n",
    "    #Make the plot nice, then display it\n",
    "    plt.title('ROC of '+method_des)\n",
    "    plt.plot([0,1], [0,1], color = 'k', linestyle='--')\n",
    "    plt.xlabel('False Positive Rate')\n",
    "    plt.ylabel('True Positive Rate')\n",
    "    plt.legend(loc = 'lower right')\n",
    "    plt.show()\n",
    "    #plt.close()"
   ]
  },
  {
   "cell_type": "code",
   "execution_count": null,
   "metadata": {},
   "outputs": [],
   "source": []
  }
 ],
 "metadata": {
  "kernelspec": {
   "display_name": "Python 3",
   "language": "python",
   "name": "python3"
  },
  "language_info": {
   "codemirror_mode": {
    "name": "ipython",
    "version": 3
   },
   "file_extension": ".py",
   "mimetype": "text/x-python",
   "name": "python",
   "nbconvert_exporter": "python",
   "pygments_lexer": "ipython3",
   "version": "3.7.5"
  }
 },
 "nbformat": 4,
 "nbformat_minor": 2
}
